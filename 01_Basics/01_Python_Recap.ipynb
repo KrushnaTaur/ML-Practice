{
  "nbformat": 4,
  "nbformat_minor": 0,
  "metadata": {
    "colab": {
      "provenance": []
    },
    "kernelspec": {
      "name": "python3",
      "display_name": "Python 3"
    },
    "language_info": {
      "name": "python"
    }
  },
  "cells": [
    {
      "cell_type": "markdown",
      "source": [
        "# 1. Introduction & First Program"
      ],
      "metadata": {
        "id": "5eCODS5suXjy"
      }
    },
    {
      "cell_type": "code",
      "source": [
        "print(\"This is my first program\")\n",
        "\n",
        "name = input(\"Enter Name: \")\n",
        "print(\"Hello,\", name)"
      ],
      "metadata": {
        "colab": {
          "base_uri": "https://localhost:8080/"
        },
        "id": "_Qs4i7Gmuc1w",
        "outputId": "aa6c1b6f-85ef-4e62-bc56-e3b57c03c3cc"
      },
      "execution_count": 21,
      "outputs": [
        {
          "output_type": "stream",
          "name": "stdout",
          "text": [
            "This is my first program\n",
            "Enter Name: Krish\n",
            "Hello, Krish\n"
          ]
        }
      ]
    },
    {
      "cell_type": "markdown",
      "source": [
        "# 2. Variables and Data Types"
      ],
      "metadata": {
        "id": "H01yrfQ0vXq4"
      }
    },
    {
      "cell_type": "code",
      "source": [
        "# Variable Declaration\n",
        "a = 10\n",
        "b = 3.14\n",
        "c = \"Krish\"\n",
        "d = True"
      ],
      "metadata": {
        "id": "vyUrD2-AvWD4"
      },
      "execution_count": 2,
      "outputs": []
    },
    {
      "cell_type": "code",
      "source": [
        "# Type Checking\n",
        "print(type(a), type(b), type(c), type(d))"
      ],
      "metadata": {
        "colab": {
          "base_uri": "https://localhost:8080/"
        },
        "id": "OzhfERaYvpl-",
        "outputId": "1891dc3d-a44e-410b-8884-2ee1562e95e7"
      },
      "execution_count": 3,
      "outputs": [
        {
          "output_type": "stream",
          "name": "stdout",
          "text": [
            "<class 'int'> <class 'float'> <class 'str'> <class 'bool'>\n"
          ]
        }
      ]
    },
    {
      "cell_type": "code",
      "source": [
        "# Type Casting\n",
        "x = int(b)\n",
        "y = str(a)\n",
        "print(x, y)"
      ],
      "metadata": {
        "colab": {
          "base_uri": "https://localhost:8080/"
        },
        "id": "X3tTkEvCvu4f",
        "outputId": "400cfcd2-19e6-4937-82ca-d61403fe4dd1"
      },
      "execution_count": 4,
      "outputs": [
        {
          "output_type": "stream",
          "name": "stdout",
          "text": [
            "3 10\n"
          ]
        }
      ]
    },
    {
      "cell_type": "markdown",
      "source": [
        "# 3. Operators in Python"
      ],
      "metadata": {
        "id": "caAeVOufvyvy"
      }
    },
    {
      "cell_type": "code",
      "source": [
        "# Arithmetic Operators\n",
        "a, b = 10, 3\n",
        "print(a + b)\n",
        "print(a - b)\n",
        "print(a * b)\n",
        "print(a / b)\n",
        "print(a % b)\n",
        "print(a // b)\n",
        "print(a ** b)"
      ],
      "metadata": {
        "colab": {
          "base_uri": "https://localhost:8080/"
        },
        "id": "w-TB5v-Vv1lE",
        "outputId": "4e06dfa1-5c0b-4d48-dbf2-5dab10c90e0c"
      },
      "execution_count": 6,
      "outputs": [
        {
          "output_type": "stream",
          "name": "stdout",
          "text": [
            "13\n",
            "7\n",
            "30\n",
            "3.3333333333333335\n",
            "1\n",
            "3\n",
            "1000\n"
          ]
        }
      ]
    },
    {
      "cell_type": "code",
      "source": [
        "# Comparison\n",
        "print(a > b)\n",
        "print(a < b)\n",
        "print(a >= b)\n",
        "print(a <= b)\n",
        "print(a == b)\n",
        "print(a != b)"
      ],
      "metadata": {
        "colab": {
          "base_uri": "https://localhost:8080/"
        },
        "id": "UDzWzu_MwHi1",
        "outputId": "fee0ed8d-88ed-4a40-d7b4-1d1ec817ba20"
      },
      "execution_count": 8,
      "outputs": [
        {
          "output_type": "stream",
          "name": "stdout",
          "text": [
            "True\n",
            "False\n",
            "True\n",
            "False\n",
            "False\n",
            "True\n"
          ]
        }
      ]
    },
    {
      "cell_type": "code",
      "source": [
        "# Logical\n",
        "print(a > 5 and b < 5)\n",
        "print(not (a < b))"
      ],
      "metadata": {
        "colab": {
          "base_uri": "https://localhost:8080/"
        },
        "id": "xeb_OPCiwQRx",
        "outputId": "3161df13-be8c-4d6b-97f0-18a5bebf1c57"
      },
      "execution_count": 9,
      "outputs": [
        {
          "output_type": "stream",
          "name": "stdout",
          "text": [
            "True\n",
            "True\n"
          ]
        }
      ]
    },
    {
      "cell_type": "code",
      "source": [
        "# Assignment\n",
        "a += 5\n",
        "print(a)\n",
        "a -= 5\n",
        "print(a)\n",
        "a *= 5\n",
        "print(a)\n",
        "a /= 5\n",
        "print(a)"
      ],
      "metadata": {
        "colab": {
          "base_uri": "https://localhost:8080/"
        },
        "id": "RdGqzo1bwUJc",
        "outputId": "fc9e1e5b-7da8-48a3-88dd-d7e89f2db9ec"
      },
      "execution_count": 10,
      "outputs": [
        {
          "output_type": "stream",
          "name": "stdout",
          "text": [
            "15\n",
            "10\n",
            "50\n",
            "10.0\n"
          ]
        }
      ]
    },
    {
      "cell_type": "code",
      "source": [
        "# Membership and Identity\n",
        "nums = [1, 2, 3]\n",
        "print(2 in nums)\n",
        "print(a is b)"
      ],
      "metadata": {
        "colab": {
          "base_uri": "https://localhost:8080/"
        },
        "id": "hYbJyDTBweyb",
        "outputId": "1e61601d-3058-4edd-ee4e-16811ad7eadf"
      },
      "execution_count": 11,
      "outputs": [
        {
          "output_type": "stream",
          "name": "stdout",
          "text": [
            "True\n",
            "False\n"
          ]
        }
      ]
    },
    {
      "cell_type": "markdown",
      "source": [
        "# 4. Conditional Statements"
      ],
      "metadata": {
        "id": "WllXRUX1wjcG"
      }
    },
    {
      "cell_type": "code",
      "source": [
        "# Largest of three numbers\n",
        "a, b, c = 5, 9, 3\n",
        "\n",
        "if a > b and a > c:\n",
        "    print(\"A is largest\")\n",
        "elif b > c:\n",
        "    print(\"B is largest\")\n",
        "else:\n",
        "    print(\"C is largest\")"
      ],
      "metadata": {
        "colab": {
          "base_uri": "https://localhost:8080/"
        },
        "id": "ZBK7qwXcwnEK",
        "outputId": "f7f8c17b-81c7-4f34-b78c-4826d18c08c5"
      },
      "execution_count": 12,
      "outputs": [
        {
          "output_type": "stream",
          "name": "stdout",
          "text": [
            "B is largest\n"
          ]
        }
      ]
    },
    {
      "cell_type": "markdown",
      "source": [
        "# 5. Loops"
      ],
      "metadata": {
        "id": "d-sJLth5wvFo"
      }
    },
    {
      "cell_type": "code",
      "source": [
        "# for loop with range\n",
        "for i in range(1, 6):\n",
        "    print(i, end=\" \")"
      ],
      "metadata": {
        "colab": {
          "base_uri": "https://localhost:8080/"
        },
        "id": "bxbY2i3nwzfe",
        "outputId": "db67d97d-d04c-4cb7-8b2e-cb8df9ae7f0f"
      },
      "execution_count": 13,
      "outputs": [
        {
          "output_type": "stream",
          "name": "stdout",
          "text": [
            "1 2 3 4 5 "
          ]
        }
      ]
    },
    {
      "cell_type": "code",
      "source": [
        "# while loop\n",
        "count = 1\n",
        "while count <= 5:\n",
        "    print(count)\n",
        "    count += 1"
      ],
      "metadata": {
        "colab": {
          "base_uri": "https://localhost:8080/"
        },
        "id": "kuGIeuM9w3nD",
        "outputId": "7a4276b4-f375-4b97-97bb-f065e445c4ac"
      },
      "execution_count": 14,
      "outputs": [
        {
          "output_type": "stream",
          "name": "stdout",
          "text": [
            "1\n",
            "2\n",
            "3\n",
            "4\n",
            "5\n"
          ]
        }
      ]
    },
    {
      "cell_type": "code",
      "source": [
        "# Sum of even numbers between 1–50\n",
        "total = 0\n",
        "for i in range(2, 51, 2):\n",
        "    total += i\n",
        "print(\"Sum of even numbers:\", total)"
      ],
      "metadata": {
        "colab": {
          "base_uri": "https://localhost:8080/"
        },
        "id": "4NugZpnKw8uI",
        "outputId": "0f8d7161-c0e4-4c3a-e677-710dafbc3d2a"
      },
      "execution_count": 15,
      "outputs": [
        {
          "output_type": "stream",
          "name": "stdout",
          "text": [
            "Sum of even numbers: 650\n"
          ]
        }
      ]
    },
    {
      "cell_type": "markdown",
      "source": [
        "# 6. Strings"
      ],
      "metadata": {
        "id": "6dr3M983xAzk"
      }
    },
    {
      "cell_type": "code",
      "source": [
        "# String creation and indexing\n",
        "s = \"Python\"\n",
        "print(s[0], s[-1])"
      ],
      "metadata": {
        "colab": {
          "base_uri": "https://localhost:8080/"
        },
        "id": "PDk6a-OoxDGY",
        "outputId": "09b1bac2-0e88-4c7e-975a-2e7365f795ad"
      },
      "execution_count": 16,
      "outputs": [
        {
          "output_type": "stream",
          "name": "stdout",
          "text": [
            "P n\n"
          ]
        }
      ]
    },
    {
      "cell_type": "code",
      "source": [
        "# Slicing\n",
        "print(s[0:3])\n",
        "print(s[:2])\n",
        "print(s[2:])"
      ],
      "metadata": {
        "colab": {
          "base_uri": "https://localhost:8080/"
        },
        "id": "i941_8chxNwN",
        "outputId": "92f9f439-d5fe-4966-864a-57a8e5fad8fe"
      },
      "execution_count": 18,
      "outputs": [
        {
          "output_type": "stream",
          "name": "stdout",
          "text": [
            "Pyt\n",
            "Py\n",
            "thon\n"
          ]
        }
      ]
    },
    {
      "cell_type": "code",
      "source": [
        "# Methods\n",
        "print(s.upper())\n",
        "print(s.lower())\n",
        "print(s.capitalize())\n",
        "print(s.replace(\"P\", \"J\"))\n",
        "print(s.split(\"t\"))"
      ],
      "metadata": {
        "colab": {
          "base_uri": "https://localhost:8080/"
        },
        "id": "7L9Qm92lxdDI",
        "outputId": "647a7ff5-3dc1-41ca-e516-89ee873d8a6c"
      },
      "execution_count": 19,
      "outputs": [
        {
          "output_type": "stream",
          "name": "stdout",
          "text": [
            "PYTHON\n",
            "python\n",
            "Python\n",
            "Jython\n",
            "['Py', 'hon']\n"
          ]
        }
      ]
    },
    {
      "cell_type": "code",
      "source": [
        "# Count vowels\n",
        "text = \"Hi i am Krish!\"\n",
        "vowels = \"aeiouAEIOU\"\n",
        "count = sum(1 for ch in text if ch in vowels)\n",
        "print(\"Vowel count:\", count)"
      ],
      "metadata": {
        "colab": {
          "base_uri": "https://localhost:8080/"
        },
        "id": "BgQiilQfxzsL",
        "outputId": "440ad61c-54d1-42b6-a4e0-54b7286d3e96"
      },
      "execution_count": 20,
      "outputs": [
        {
          "output_type": "stream",
          "name": "stdout",
          "text": [
            "Vowel count: 4\n"
          ]
        }
      ]
    },
    {
      "cell_type": "markdown",
      "source": [
        "# 7. Lists"
      ],
      "metadata": {
        "id": "IPBMllHqyAN-"
      }
    },
    {
      "cell_type": "code",
      "source": [
        "# Create list\n",
        "nums = [4, 7, 1, 9, 2]"
      ],
      "metadata": {
        "id": "5ekE4CMxyEdD"
      },
      "execution_count": 22,
      "outputs": []
    },
    {
      "cell_type": "code",
      "source": [
        "# Access, add, remove\n",
        "print(nums[0])\n",
        "nums.append(10)\n",
        "nums.insert(2, 99)\n",
        "nums.pop()\n",
        "nums.remove(1)\n",
        "print(nums)"
      ],
      "metadata": {
        "colab": {
          "base_uri": "https://localhost:8080/"
        },
        "id": "VlIXfBwNyI7m",
        "outputId": "86719c31-fd82-4731-8f61-8b1cbb06a752"
      },
      "execution_count": 23,
      "outputs": [
        {
          "output_type": "stream",
          "name": "stdout",
          "text": [
            "4\n",
            "[4, 7, 99, 9, 2]\n"
          ]
        }
      ]
    },
    {
      "cell_type": "code",
      "source": [
        "# Sort, reverse\n",
        "nums.sort()\n",
        "print(nums)\n",
        "nums.reverse()\n",
        "print(nums)"
      ],
      "metadata": {
        "colab": {
          "base_uri": "https://localhost:8080/"
        },
        "id": "ZXTkVCxbyNc0",
        "outputId": "81809172-903c-47e7-bbcd-1a5bc41ec5db"
      },
      "execution_count": 24,
      "outputs": [
        {
          "output_type": "stream",
          "name": "stdout",
          "text": [
            "[2, 4, 7, 9, 99]\n",
            "[99, 9, 7, 4, 2]\n"
          ]
        }
      ]
    },
    {
      "cell_type": "code",
      "source": [
        "# Max and Min\n",
        "print(\"Max:\", max(nums))\n",
        "print(\"Min:\", min(nums))"
      ],
      "metadata": {
        "colab": {
          "base_uri": "https://localhost:8080/"
        },
        "id": "Fa-KIUgoyTDP",
        "outputId": "b5bd585e-9426-4702-a181-ceed68d6fa5d"
      },
      "execution_count": 25,
      "outputs": [
        {
          "output_type": "stream",
          "name": "stdout",
          "text": [
            "Max: 99\n",
            "Min: 2\n"
          ]
        }
      ]
    },
    {
      "cell_type": "markdown",
      "source": [
        "# 8. Tuples"
      ],
      "metadata": {
        "id": "wDhk_bkRyp5f"
      }
    },
    {
      "cell_type": "code",
      "source": [
        "# Tuple creation\n",
        "t = (1, 2, 3, 4)\n",
        "print(len(t), t.count(2), t.index(3))"
      ],
      "metadata": {
        "colab": {
          "base_uri": "https://localhost:8080/"
        },
        "id": "t_LorlPhytAo",
        "outputId": "045f41d8-4661-45b9-c05b-2a3278242fbc"
      },
      "execution_count": 26,
      "outputs": [
        {
          "output_type": "stream",
          "name": "stdout",
          "text": [
            "4 1 2\n"
          ]
        }
      ]
    },
    {
      "cell_type": "code",
      "source": [
        "# Swap using tuple unpacking\n",
        "a, b = 10, 20\n",
        "a, b = b, a\n",
        "print(\"After swapping:\", a, b)"
      ],
      "metadata": {
        "colab": {
          "base_uri": "https://localhost:8080/"
        },
        "id": "SC8MJh8ByxYt",
        "outputId": "1c36d1ff-62dd-463f-d84e-4cea6d1aa337"
      },
      "execution_count": 27,
      "outputs": [
        {
          "output_type": "stream",
          "name": "stdout",
          "text": [
            "After swapping: 20 10\n"
          ]
        }
      ]
    },
    {
      "cell_type": "markdown",
      "source": [
        "# 9. Sets"
      ],
      "metadata": {
        "id": "tYTcEjWiy2OW"
      }
    },
    {
      "cell_type": "code",
      "source": [
        "# Set operations\n",
        "set1 = {1, 2, 3, 4}\n",
        "set2 = {3, 4, 5, 6}"
      ],
      "metadata": {
        "id": "quX5yWEyy4Rj"
      },
      "execution_count": 28,
      "outputs": []
    },
    {
      "cell_type": "code",
      "source": [
        "print(\"Union:\", set1 | set2)\n",
        "print(\"Intersection:\", set1 & set2)\n",
        "print(\"Difference:\", set1 - set2)\n",
        "print(\"Common elements:\", set1 & set2)"
      ],
      "metadata": {
        "colab": {
          "base_uri": "https://localhost:8080/"
        },
        "id": "KN_PqtgYy4XX",
        "outputId": "ae2aa61a-c744-4172-fe6b-59c54d843478"
      },
      "execution_count": 29,
      "outputs": [
        {
          "output_type": "stream",
          "name": "stdout",
          "text": [
            "Union: {1, 2, 3, 4, 5, 6}\n",
            "Intersection: {3, 4}\n",
            "Difference: {1, 2}\n",
            "Common elements: {3, 4}\n"
          ]
        }
      ]
    },
    {
      "cell_type": "markdown",
      "source": [
        "# 10. Dictionaries"
      ],
      "metadata": {
        "id": "mcywAUfyzAEF"
      }
    },
    {
      "cell_type": "code",
      "source": [
        "# Basic dictionary\n",
        "student = {\"name\": \"Krushna Taur\", \"age\": 19, \"branch\": \"AI&DS\"}\n",
        "print(student[\"name\"])\n",
        "print(student[\"age\"])\n",
        "print(student[\"branch\"])"
      ],
      "metadata": {
        "colab": {
          "base_uri": "https://localhost:8080/"
        },
        "id": "wtN2FMAJzB_a",
        "outputId": "cdd1db90-1c00-44f6-fa5c-4bc86015ddfb"
      },
      "execution_count": 31,
      "outputs": [
        {
          "output_type": "stream",
          "name": "stdout",
          "text": [
            "Krushna Taur\n",
            "19\n",
            "AI&DS\n"
          ]
        }
      ]
    },
    {
      "cell_type": "code",
      "source": [
        "# Add / update / delete\n",
        "student[\"age\"] = 20\n",
        "student[\"college\"] = \"MIT\"\n",
        "del student[\"branch\"]\n",
        "print(student)"
      ],
      "metadata": {
        "colab": {
          "base_uri": "https://localhost:8080/"
        },
        "id": "GT262dUBzVs5",
        "outputId": "3688c2ea-7566-4cc0-868a-38016f3ce0f9"
      },
      "execution_count": 32,
      "outputs": [
        {
          "output_type": "stream",
          "name": "stdout",
          "text": [
            "{'name': 'Krushna Taur', 'age': 20, 'college': 'MIT'}\n"
          ]
        }
      ]
    },
    {
      "cell_type": "code",
      "source": [
        "# Word frequency\n",
        "sentence = \"Hello my name is Krish and I am studing at MIT\"\n",
        "words = sentence.split()\n",
        "freq = {}\n",
        "for w in words:\n",
        "    freq[w] = freq.get(w, 0) + 1\n",
        "print(freq)"
      ],
      "metadata": {
        "colab": {
          "base_uri": "https://localhost:8080/"
        },
        "id": "48vFqzPbzazB",
        "outputId": "22df041f-6065-4c24-d01f-8036c9b58a83"
      },
      "execution_count": 33,
      "outputs": [
        {
          "output_type": "stream",
          "name": "stdout",
          "text": [
            "{'Hello': 1, 'my': 1, 'name': 1, 'is': 1, 'Krish': 1, 'and': 1, 'I': 1, 'am': 1, 'studing': 1, 'at': 1, 'MIT': 1}\n"
          ]
        }
      ]
    },
    {
      "cell_type": "markdown",
      "source": [
        "# 11. Functions"
      ],
      "metadata": {
        "id": "lG4XqyoLzpEF"
      }
    },
    {
      "cell_type": "code",
      "source": [
        "# Define and call\n",
        "def greet(name):\n",
        "    print(\"Hello\", name)\n",
        "\n",
        "greet(\"Krish\")"
      ],
      "metadata": {
        "colab": {
          "base_uri": "https://localhost:8080/"
        },
        "id": "3uVI-3aFzq7k",
        "outputId": "3a2c040e-7b52-4c74-8b98-a7cbda74a6d5"
      },
      "execution_count": 36,
      "outputs": [
        {
          "output_type": "stream",
          "name": "stdout",
          "text": [
            "Hello Krish\n"
          ]
        }
      ]
    },
    {
      "cell_type": "code",
      "source": [
        "# Return values\n",
        "def add(a, b):\n",
        "    return a + b\n",
        "\n",
        "print(add(5, 3))"
      ],
      "metadata": {
        "colab": {
          "base_uri": "https://localhost:8080/"
        },
        "id": "u9R-Hy72z0nb",
        "outputId": "95741ba3-d8f7-4aa5-da3b-514d4bfd8cd9"
      },
      "execution_count": 37,
      "outputs": [
        {
          "output_type": "stream",
          "name": "stdout",
          "text": [
            "8\n"
          ]
        }
      ]
    },
    {
      "cell_type": "code",
      "source": [
        "# Prime check\n",
        "def is_prime(n):\n",
        "    if n < 2:\n",
        "        return False\n",
        "    for i in range(2, int(n ** 0.5) + 1):\n",
        "        if n % i == 0:\n",
        "            return False\n",
        "    return True\n",
        "\n",
        "print(is_prime(13))"
      ],
      "metadata": {
        "colab": {
          "base_uri": "https://localhost:8080/"
        },
        "id": "atsL9Xo_z3qO",
        "outputId": "7f9d1999-d260-4178-cbe7-1a74f1c7875c"
      },
      "execution_count": 38,
      "outputs": [
        {
          "output_type": "stream",
          "name": "stdout",
          "text": [
            "True\n"
          ]
        }
      ]
    },
    {
      "cell_type": "markdown",
      "source": [
        "# 12. Basic Practice Programs"
      ],
      "metadata": {
        "id": "AMURsUrx0MHB"
      }
    },
    {
      "cell_type": "code",
      "source": [
        "# Factorial\n",
        "num = 5\n",
        "fact = 1\n",
        "for i in range(1, num + 1):\n",
        "    fact *= i\n",
        "print(\"Factorial:\", fact)"
      ],
      "metadata": {
        "colab": {
          "base_uri": "https://localhost:8080/"
        },
        "id": "8V1M-2AE0Pr7",
        "outputId": "fa984739-a8ca-4673-c16a-44100967db4c"
      },
      "execution_count": 39,
      "outputs": [
        {
          "output_type": "stream",
          "name": "stdout",
          "text": [
            "Factorial: 120\n"
          ]
        }
      ]
    },
    {
      "cell_type": "code",
      "source": [
        "# Reverse string\n",
        "s = \"Python\"\n",
        "print(\"Reversed:\", s[::-1])"
      ],
      "metadata": {
        "colab": {
          "base_uri": "https://localhost:8080/"
        },
        "id": "YyiagtrX0TH0",
        "outputId": "1afdb1c3-bedf-42df-ae66-228c6e4488f9"
      },
      "execution_count": 40,
      "outputs": [
        {
          "output_type": "stream",
          "name": "stdout",
          "text": [
            "Reversed: nohtyP\n"
          ]
        }
      ]
    },
    {
      "cell_type": "code",
      "source": [
        "# Palindrome\n",
        "s = \"madam\"\n",
        "print(\"Palindrome\" if s == s[::-1] else \"Not Palindrome\")"
      ],
      "metadata": {
        "colab": {
          "base_uri": "https://localhost:8080/"
        },
        "id": "cQ9hdmqY0VOX",
        "outputId": "6afbe8e9-6375-41d5-d425-4be615942211"
      },
      "execution_count": 41,
      "outputs": [
        {
          "output_type": "stream",
          "name": "stdout",
          "text": [
            "Palindrome\n"
          ]
        }
      ]
    },
    {
      "cell_type": "code",
      "source": [
        "# Largest in list\n",
        "lst = [5, 2, 8, 1]\n",
        "print(\"Largest:\", max(lst))"
      ],
      "metadata": {
        "colab": {
          "base_uri": "https://localhost:8080/"
        },
        "id": "UJCI_DN50aJz",
        "outputId": "15a55052-d979-4f99-eacf-e72c471098dc"
      },
      "execution_count": 42,
      "outputs": [
        {
          "output_type": "stream",
          "name": "stdout",
          "text": [
            "Largest: 8\n"
          ]
        }
      ]
    },
    {
      "cell_type": "code",
      "source": [
        "# Multiplication table\n",
        "n = 7\n",
        "for i in range(1, 11):\n",
        "    print(f\"{n} x {i} = {n*i}\")"
      ],
      "metadata": {
        "colab": {
          "base_uri": "https://localhost:8080/"
        },
        "id": "I8aIQnsJ0cop",
        "outputId": "5d27d185-2ebb-4520-8a1d-a15cb087bdb8"
      },
      "execution_count": 43,
      "outputs": [
        {
          "output_type": "stream",
          "name": "stdout",
          "text": [
            "7 x 1 = 7\n",
            "7 x 2 = 14\n",
            "7 x 3 = 21\n",
            "7 x 4 = 28\n",
            "7 x 5 = 35\n",
            "7 x 6 = 42\n",
            "7 x 7 = 49\n",
            "7 x 8 = 56\n",
            "7 x 9 = 63\n",
            "7 x 10 = 70\n"
          ]
        }
      ]
    }
  ]
}
