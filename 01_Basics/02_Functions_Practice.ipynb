{
  "nbformat": 4,
  "nbformat_minor": 0,
  "metadata": {
    "colab": {
      "provenance": [],
      "authorship_tag": "ABX9TyMq5XQmGYSw7hHKy0F3vNl+",
      "include_colab_link": true
    },
    "kernelspec": {
      "name": "python3",
      "display_name": "Python 3"
    },
    "language_info": {
      "name": "python"
    }
  },
  "cells": [
    {
      "cell_type": "markdown",
      "metadata": {
        "id": "view-in-github",
        "colab_type": "text"
      },
      "source": [
        "<a href=\"https://colab.research.google.com/github/KrushnaTaur/ML-Practice/blob/main/01_Basics/02_Functions_Practice.ipynb\" target=\"_parent\"><img src=\"https://colab.research.google.com/assets/colab-badge.svg\" alt=\"Open In Colab\"/></a>"
      ]
    },
    {
      "cell_type": "markdown",
      "source": [
        "#1. Defining and Calling Functions"
      ],
      "metadata": {
        "id": "FxxjQBDE2ztK"
      }
    },
    {
      "cell_type": "code",
      "source": [
        "def function_name(parameters):\n",
        "    # code\n",
        "    return result"
      ],
      "metadata": {
        "id": "VdQ_0Nw-2zV7"
      },
      "execution_count": 1,
      "outputs": []
    },
    {
      "cell_type": "code",
      "source": [
        "def greet():\n",
        "    print(\"Hello my name is Krish!\")\n",
        "\n",
        "greet()"
      ],
      "metadata": {
        "colab": {
          "base_uri": "https://localhost:8080/"
        },
        "id": "EIcOM4Ic2_iv",
        "outputId": "c6b7f44f-e4cc-4ea5-98ae-1738f1f5d1b7"
      },
      "execution_count": 3,
      "outputs": [
        {
          "output_type": "stream",
          "name": "stdout",
          "text": [
            "Hello my name is Krish!\n"
          ]
        }
      ]
    },
    {
      "cell_type": "code",
      "source": [
        "def welcome(name):\n",
        "    print(\"Welcome,\", name)\n",
        "\n",
        "welcome(\"Krish\")"
      ],
      "metadata": {
        "colab": {
          "base_uri": "https://localhost:8080/"
        },
        "id": "CRrCxKHz3C_1",
        "outputId": "42268b47-a5dd-46b5-fd76-efcb7bb067c6"
      },
      "execution_count": 6,
      "outputs": [
        {
          "output_type": "stream",
          "name": "stdout",
          "text": [
            "Welcome, Krish\n"
          ]
        }
      ]
    },
    {
      "cell_type": "markdown",
      "source": [
        "# 2. Return Values"
      ],
      "metadata": {
        "id": "hKemsAIc3MJN"
      }
    },
    {
      "cell_type": "code",
      "source": [
        "def add(a, b):\n",
        "    return a + b\n",
        "\n",
        "result = add(5, 3)\n",
        "print(\"Sum:\", result)"
      ],
      "metadata": {
        "colab": {
          "base_uri": "https://localhost:8080/"
        },
        "id": "Rr4rPC533Ntv",
        "outputId": "86371c66-3f23-4c12-fc3e-2e06a82f1d9f"
      },
      "execution_count": 5,
      "outputs": [
        {
          "output_type": "stream",
          "name": "stdout",
          "text": [
            "Sum: 8\n"
          ]
        }
      ]
    },
    {
      "cell_type": "code",
      "source": [
        "def square(num):\n",
        "    return num ** 2\n",
        "\n",
        "print(\"Square:\", square(7))"
      ],
      "metadata": {
        "colab": {
          "base_uri": "https://localhost:8080/"
        },
        "id": "ikHQd6493U31",
        "outputId": "b4fd30f9-3224-427a-edc4-45af6718afca"
      },
      "execution_count": 7,
      "outputs": [
        {
          "output_type": "stream",
          "name": "stdout",
          "text": [
            "Square: 49\n"
          ]
        }
      ]
    },
    {
      "cell_type": "markdown",
      "source": [
        "## 3. Default and Keyword Arguments"
      ],
      "metadata": {
        "id": "_cEaQ92y3bOq"
      }
    },
    {
      "cell_type": "code",
      "source": [
        "def greet(name=\"User\"):\n",
        "    print(\"Hello,\", name)\n",
        "\n",
        "greet()\n",
        "greet(\"Krish\")\n",
        "\n",
        "def info(name, age):\n",
        "    print(f\"Name: {name}, Age: {age}\")\n",
        "\n",
        "info(age=19, name=\"Krish\")"
      ],
      "metadata": {
        "colab": {
          "base_uri": "https://localhost:8080/"
        },
        "id": "URNXAIAn3dNY",
        "outputId": "1a57d931-33fb-415e-c4dc-70a152c2a8b0"
      },
      "execution_count": 8,
      "outputs": [
        {
          "output_type": "stream",
          "name": "stdout",
          "text": [
            "Hello, User\n",
            "Hello, Krish\n",
            "Name: Krish, Age: 19\n"
          ]
        }
      ]
    },
    {
      "cell_type": "code",
      "source": [
        "def student_info(name, branch=\"AI&DS\"):\n",
        "    print(f\"Name: {name}, Branch: {branch}\")\n",
        "\n",
        "student_info(\"Krish\")"
      ],
      "metadata": {
        "colab": {
          "base_uri": "https://localhost:8080/"
        },
        "id": "V7HkQI2I4SCt",
        "outputId": "9369b76f-6c53-4e55-8aaf-c2fe993b0a54"
      },
      "execution_count": 9,
      "outputs": [
        {
          "output_type": "stream",
          "name": "stdout",
          "text": [
            "Name: Krish, Branch: AI&DS\n"
          ]
        }
      ]
    },
    {
      "cell_type": "markdown",
      "source": [
        "# 4. *args and **kwargs"
      ],
      "metadata": {
        "id": "wnsmy1j-4ZJa"
      }
    },
    {
      "cell_type": "code",
      "source": [
        "def add_all(*nums):\n",
        "    return sum(nums)\n",
        "\n",
        "print(\"Sum:\", add_all(1, 2, 3, 4, 5))"
      ],
      "metadata": {
        "colab": {
          "base_uri": "https://localhost:8080/"
        },
        "id": "HNE2cUSm4bYf",
        "outputId": "76ae9fdc-e7f7-4021-84b8-e4433afe0b87"
      },
      "execution_count": 10,
      "outputs": [
        {
          "output_type": "stream",
          "name": "stdout",
          "text": [
            "Sum: 15\n"
          ]
        }
      ]
    },
    {
      "cell_type": "code",
      "source": [
        "def show_info(**details):\n",
        "    for key, value in details.items():\n",
        "        print(f\"{key}: {value}\")\n",
        "\n",
        "show_info(name=\"Krish\", branch=\"AI&DS\", college=\"MIT\")"
      ],
      "metadata": {
        "colab": {
          "base_uri": "https://localhost:8080/"
        },
        "id": "G6Am7FU44mkn",
        "outputId": "c5be8126-5d78-4bd6-926f-c3a7b17fd353"
      },
      "execution_count": 11,
      "outputs": [
        {
          "output_type": "stream",
          "name": "stdout",
          "text": [
            "name: Krish\n",
            "branch: AI&DS\n",
            "college: MIT\n"
          ]
        }
      ]
    },
    {
      "cell_type": "code",
      "source": [
        "def multiply_all(*nums):\n",
        "    result = 1\n",
        "    for n in nums:\n",
        "        result *= n\n",
        "    return result\n",
        "\n",
        "print(\"Product:\", multiply_all(2, 3, 4))"
      ],
      "metadata": {
        "colab": {
          "base_uri": "https://localhost:8080/"
        },
        "id": "cDBGmicU4r3R",
        "outputId": "de25a35c-fd21-4894-915c-b755c5293f00"
      },
      "execution_count": 12,
      "outputs": [
        {
          "output_type": "stream",
          "name": "stdout",
          "text": [
            "Product: 24\n"
          ]
        }
      ]
    },
    {
      "cell_type": "markdown",
      "source": [
        "# 5. Lambda Functions"
      ],
      "metadata": {
        "id": "CSD20I644xHu"
      }
    },
    {
      "cell_type": "code",
      "source": [
        "# Lambda function\n",
        "square = lambda x: x ** 2\n",
        "print(square(5))"
      ],
      "metadata": {
        "colab": {
          "base_uri": "https://localhost:8080/"
        },
        "id": "J_fqvB4r4z-a",
        "outputId": "ad5a0f9b-f9e2-461f-db6f-c78848ebb4de"
      },
      "execution_count": 13,
      "outputs": [
        {
          "output_type": "stream",
          "name": "stdout",
          "text": [
            "25\n"
          ]
        }
      ]
    },
    {
      "cell_type": "code",
      "source": [
        "# map()\n",
        "nums = [1, 2, 3, 4]\n",
        "squares = list(map(lambda x: x ** 2, nums))\n",
        "print(\"Squares:\", squares)"
      ],
      "metadata": {
        "colab": {
          "base_uri": "https://localhost:8080/"
        },
        "id": "oLEoy6So4_zv",
        "outputId": "d529a3d2-6487-4c47-f067-46aca24fc806"
      },
      "execution_count": 14,
      "outputs": [
        {
          "output_type": "stream",
          "name": "stdout",
          "text": [
            "Squares: [1, 4, 9, 16]\n"
          ]
        }
      ]
    },
    {
      "cell_type": "code",
      "source": [
        "# filter()\n",
        "even_nums = list(filter(lambda x: x % 2 == 0, nums))\n",
        "print(\"Even numbers:\", even_nums)"
      ],
      "metadata": {
        "colab": {
          "base_uri": "https://localhost:8080/"
        },
        "id": "eFAVVpov5D1P",
        "outputId": "258a8dce-eae0-4dc0-f01f-5a74756d8e26"
      },
      "execution_count": 15,
      "outputs": [
        {
          "output_type": "stream",
          "name": "stdout",
          "text": [
            "Even numbers: [2, 4]\n"
          ]
        }
      ]
    },
    {
      "cell_type": "code",
      "source": [
        "# reduce()\n",
        "from functools import reduce\n",
        "product = reduce(lambda x, y: x * y, nums)\n",
        "print(\"Product of all:\", product)"
      ],
      "metadata": {
        "colab": {
          "base_uri": "https://localhost:8080/"
        },
        "id": "2HTVuSHg5GAU",
        "outputId": "6f0d1e86-bc63-4364-bfac-8e9cc68c0ca7"
      },
      "execution_count": 16,
      "outputs": [
        {
          "output_type": "stream",
          "name": "stdout",
          "text": [
            "Product of all: 24\n"
          ]
        }
      ]
    },
    {
      "cell_type": "code",
      "source": [
        "names = [\"krish\", \"ravi\", \"rohit\"]\n",
        "upper_names = list(map(lambda n: n.upper(), names))\n",
        "print(\"Uppercase:\", upper_names)"
      ],
      "metadata": {
        "colab": {
          "base_uri": "https://localhost:8080/"
        },
        "id": "wv9yV_vV5KEx",
        "outputId": "cb40e266-106d-435a-c28f-3e2c63454c29"
      },
      "execution_count": 19,
      "outputs": [
        {
          "output_type": "stream",
          "name": "stdout",
          "text": [
            "Uppercase: ['KRISH', 'RAVI', 'ROHIT']\n"
          ]
        }
      ]
    },
    {
      "cell_type": "code",
      "source": [
        "numbers = [3, 10, 15, 22, 8]\n",
        "greater = list(filter(lambda n: n > 10, numbers))\n",
        "print(\"Numbers > 10:\", greater)"
      ],
      "metadata": {
        "colab": {
          "base_uri": "https://localhost:8080/"
        },
        "id": "BQUP9Rzu5L5R",
        "outputId": "17fba35f-1f04-4a08-9b9b-a5e2adca83ff"
      },
      "execution_count": 18,
      "outputs": [
        {
          "output_type": "stream",
          "name": "stdout",
          "text": [
            "Numbers > 10: [15, 22]\n"
          ]
        }
      ]
    },
    {
      "cell_type": "markdown",
      "source": [
        "# 6. Recursion"
      ],
      "metadata": {
        "id": "kFzaeyLi5ZLS"
      }
    },
    {
      "cell_type": "code",
      "source": [
        "# factorial\n",
        "def factorial(n):\n",
        "    if n == 1 or n == 0:\n",
        "        return 1\n",
        "    return n * factorial(n - 1)\n",
        "\n",
        "print(\"Factorial of 5:\", factorial(5))"
      ],
      "metadata": {
        "colab": {
          "base_uri": "https://localhost:8080/"
        },
        "id": "PTTBr_Nf5c8t",
        "outputId": "10387e21-2499-4e87-8cc6-9990595e70ee"
      },
      "execution_count": 20,
      "outputs": [
        {
          "output_type": "stream",
          "name": "stdout",
          "text": [
            "Factorial of 5: 120\n"
          ]
        }
      ]
    },
    {
      "cell_type": "code",
      "source": [
        "# fibonacci\n",
        "def fibonacci(n):\n",
        "    if n <= 1:\n",
        "        return n\n",
        "    return fibonacci(n-1) + fibonacci(n-2)\n",
        "\n",
        "print(\"Fibonacci sequence:\")\n",
        "for i in range(7):\n",
        "    print(fibonacci(i), end=\" \")"
      ],
      "metadata": {
        "colab": {
          "base_uri": "https://localhost:8080/"
        },
        "id": "QQUQDxXj5j5G",
        "outputId": "15b091ff-5658-47c2-e273-07182ccb04a8"
      },
      "execution_count": 22,
      "outputs": [
        {
          "output_type": "stream",
          "name": "stdout",
          "text": [
            "Fibonacci sequence:\n",
            "0 1 1 2 3 5 8 "
          ]
        }
      ]
    },
    {
      "cell_type": "code",
      "source": [
        "def sum_of_digits(n):\n",
        "    if n == 0:\n",
        "        return 0\n",
        "    return n % 10 + sum_of_digits(n // 10)\n",
        "\n",
        "print(\"Sum of digits:\", sum_of_digits(1234))"
      ],
      "metadata": {
        "colab": {
          "base_uri": "https://localhost:8080/"
        },
        "id": "p6rfm9TF5pEE",
        "outputId": "c9ee591b-b7b7-44a5-e30d-35360b54b20a"
      },
      "execution_count": 23,
      "outputs": [
        {
          "output_type": "stream",
          "name": "stdout",
          "text": [
            "Sum of digits: 10\n"
          ]
        }
      ]
    },
    {
      "cell_type": "markdown",
      "source": [
        "# 7. Variable Scope & Docstrings"
      ],
      "metadata": {
        "id": "HG2iVrAH5tTk"
      }
    },
    {
      "cell_type": "code",
      "source": [
        "x = 100  # global variable\n",
        "\n",
        "def demo():\n",
        "    \"\"\"This function shows variable scope example.\"\"\"\n",
        "    y = 10  # local variable\n",
        "    print(\"Inside function:\", y)\n",
        "    print(\"Access global:\", x)\n",
        "\n",
        "demo()\n",
        "print(\"Outside function:\", x)"
      ],
      "metadata": {
        "colab": {
          "base_uri": "https://localhost:8080/"
        },
        "id": "NWYNwsWc5u9A",
        "outputId": "8d3c7d4b-f6e2-4224-c3c3-e9f3334e81d7"
      },
      "execution_count": 24,
      "outputs": [
        {
          "output_type": "stream",
          "name": "stdout",
          "text": [
            "Inside function: 10\n",
            "Access global: 100\n",
            "Outside function: 100\n"
          ]
        }
      ]
    },
    {
      "cell_type": "code",
      "source": [
        "def cube(n):\n",
        "    \"\"\"Returns cube of a given number.\"\"\"\n",
        "    return n ** 3\n",
        "\n",
        "print(\"Cube:\", cube(4))\n",
        "print(cube.__doc__)"
      ],
      "metadata": {
        "colab": {
          "base_uri": "https://localhost:8080/"
        },
        "id": "dqpVN2Rt57s6",
        "outputId": "1068020d-30d3-4f51-8dff-48ed71e1b7d5"
      },
      "execution_count": 25,
      "outputs": [
        {
          "output_type": "stream",
          "name": "stdout",
          "text": [
            "Cube: 64\n",
            "Returns cube of a given number.\n"
          ]
        }
      ]
    }
  ]
}