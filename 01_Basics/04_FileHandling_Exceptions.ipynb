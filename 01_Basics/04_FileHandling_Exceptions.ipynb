{
  "nbformat": 4,
  "nbformat_minor": 0,
  "metadata": {
    "colab": {
      "provenance": [],
      "authorship_tag": "ABX9TyPqDu0myKUCEai+PlaOxotz",
      "include_colab_link": true
    },
    "kernelspec": {
      "name": "python3",
      "display_name": "Python 3"
    },
    "language_info": {
      "name": "python"
    }
  },
  "cells": [
    {
      "cell_type": "markdown",
      "metadata": {
        "id": "view-in-github",
        "colab_type": "text"
      },
      "source": [
        "<a href=\"https://colab.research.google.com/github/KrushnaTaur/ML-Practice/blob/main/01_Basics/04_FileHandling_Exceptions.ipynb\" target=\"_parent\"><img src=\"https://colab.research.google.com/assets/colab-badge.svg\" alt=\"Open In Colab\"/></a>"
      ]
    },
    {
      "cell_type": "markdown",
      "source": [
        "# 1. File Handling — Basics"
      ],
      "metadata": {
        "id": "4nu19ME_IvQ_"
      }
    },
    {
      "cell_type": "code",
      "execution_count": null,
      "metadata": {
        "id": "9hjaGNVnII5m"
      },
      "outputs": [],
      "source": [
        "file = open(\"/content/sample.txt\", \"r\")\n",
        "# mode: 'r' = read, 'w' = write, 'a' = append"
      ]
    },
    {
      "cell_type": "code",
      "source": [
        "file.close()"
      ],
      "metadata": {
        "id": "4RimWlBbPdqn"
      },
      "execution_count": null,
      "outputs": []
    },
    {
      "cell_type": "code",
      "source": [
        "# Writing to a file\n",
        "f = open(\"/content/sample.txt\", \"w\")\n",
        "f.write(\"Hello, Krish! Welcome to file handling in Python.\")\n",
        "f.close()"
      ],
      "metadata": {
        "id": "JwkjAxTEPo_G"
      },
      "execution_count": null,
      "outputs": []
    },
    {
      "cell_type": "code",
      "source": [
        "# Reading from a file\n",
        "f = open(\"/content/sample.txt\", \"r\")\n",
        "content = f.read()\n",
        "print(content)\n",
        "f.close()"
      ],
      "metadata": {
        "colab": {
          "base_uri": "https://localhost:8080/"
        },
        "id": "F1ZFHGrGPzGM",
        "outputId": "ff77d123-79fd-4bb6-dd0e-b01a480b7261"
      },
      "execution_count": null,
      "outputs": [
        {
          "output_type": "stream",
          "name": "stdout",
          "text": [
            "Hello, Krish! Welcome to file handling in Python.\n"
          ]
        }
      ]
    },
    {
      "cell_type": "markdown",
      "source": [
        "# 2. Using with (Context Manager)"
      ],
      "metadata": {
        "id": "0Notk828P_u2"
      }
    },
    {
      "cell_type": "code",
      "source": [
        "with open(\"/content/sample.txt\", \"w\") as f:\n",
        "    f.write(\"This is a safer way to handle files.\\n\")\n",
        "    f.write(\"No need to close manually!\")"
      ],
      "metadata": {
        "id": "RJTslYDVP8HW"
      },
      "execution_count": null,
      "outputs": []
    },
    {
      "cell_type": "code",
      "source": [
        "with open(\"/content/sample.txt\", \"r\") as f:\n",
        "    print(f.read())"
      ],
      "metadata": {
        "colab": {
          "base_uri": "https://localhost:8080/"
        },
        "id": "KY8kf8zkQW2V",
        "outputId": "5e938ca4-247f-436a-b286-f6a4b40fe516"
      },
      "execution_count": null,
      "outputs": [
        {
          "output_type": "stream",
          "name": "stdout",
          "text": [
            "This is a safer way to handle files.\n",
            "No need to close manually!\n"
          ]
        }
      ]
    },
    {
      "cell_type": "markdown",
      "source": [
        "# 3. Working with CSV Files"
      ],
      "metadata": {
        "id": "RnmZB35fQgHl"
      }
    },
    {
      "cell_type": "code",
      "source": [
        "import csv\n",
        "\n",
        "data = [\n",
        "    [\"Name\", \"Age\", \"Branch\"],\n",
        "    [\"Krish\", 19, \"AI&DS\"],\n",
        "    [\"Rohit\", 20, \"CSE\"]\n",
        "]\n",
        "\n",
        "with open(\"/content/sample.csv\", \"w\", newline='') as file:\n",
        "    writer = csv.writer(file)\n",
        "    writer.writerows(data)\n",
        "\n",
        "print(\"CSV file written successfully!\")"
      ],
      "metadata": {
        "colab": {
          "base_uri": "https://localhost:8080/"
        },
        "id": "VWk6HbfxQi8m",
        "outputId": "36490be9-e753-49a0-a380-1b614d175de9"
      },
      "execution_count": null,
      "outputs": [
        {
          "output_type": "stream",
          "name": "stdout",
          "text": [
            "CSV file written successfully!\n"
          ]
        }
      ]
    },
    {
      "cell_type": "code",
      "source": [
        "import csv\n",
        "\n",
        "with open(\"/content/sample.csv\", \"r\") as file:\n",
        "    reader = csv.reader(file)\n",
        "    for row in reader:\n",
        "        print(row)"
      ],
      "metadata": {
        "colab": {
          "base_uri": "https://localhost:8080/"
        },
        "id": "Qyjf61sgQwQF",
        "outputId": "09a7af1a-5cb2-433d-c205-0f00107da111"
      },
      "execution_count": null,
      "outputs": [
        {
          "output_type": "stream",
          "name": "stdout",
          "text": [
            "['Name', 'Age', 'Branch']\n",
            "['Krish', '19', 'AI&DS']\n",
            "['Rohit', '20', 'CSE']\n"
          ]
        }
      ]
    },
    {
      "cell_type": "markdown",
      "source": [
        "# 4. Exception Handling"
      ],
      "metadata": {
        "id": "TBUcogTRQ7Uw"
      }
    },
    {
      "cell_type": "code",
      "source": [
        "try:\n",
        "    num = int(input(\"Enter a number: \"))\n",
        "    print(10 / num)\n",
        "except ValueError:\n",
        "    print(\"Error: Please enter a valid integer!\")\n",
        "except ZeroDivisionError:\n",
        "    print(\"Error: Division by zero not allowed!\")\n",
        "finally:\n",
        "    print(\"Program completed safely.\")"
      ],
      "metadata": {
        "colab": {
          "base_uri": "https://localhost:8080/"
        },
        "id": "xcPYBXu0Q6I_",
        "outputId": "c55e53b8-a8c0-4299-fba6-f9da0d75b041"
      },
      "execution_count": null,
      "outputs": [
        {
          "output_type": "stream",
          "name": "stdout",
          "text": [
            "Enter a number: 2\n",
            "5.0\n",
            "Program completed safely.\n"
          ]
        }
      ]
    },
    {
      "cell_type": "code",
      "source": [
        "try:\n",
        "    with open(\"unknown.txt\", \"r\") as f:\n",
        "        print(f.read())\n",
        "except FileNotFoundError:\n",
        "    print(\"File not found!\")"
      ],
      "metadata": {
        "colab": {
          "base_uri": "https://localhost:8080/"
        },
        "id": "eQcWq1gMRKvh",
        "outputId": "f77de43d-31c2-430e-da72-4fadb3945a61"
      },
      "execution_count": null,
      "outputs": [
        {
          "output_type": "stream",
          "name": "stdout",
          "text": [
            "File not found!\n"
          ]
        }
      ]
    },
    {
      "cell_type": "markdown",
      "source": [
        "# 5. Custom Exceptions"
      ],
      "metadata": {
        "id": "pmxDb1GjRS-G"
      }
    },
    {
      "cell_type": "code",
      "source": [
        "class AgeTooLowError(Exception):\n",
        "    pass\n",
        "\n",
        "try:\n",
        "    age = int(input(\"Enter your age: \"))\n",
        "    if age < 18:\n",
        "        raise AgeTooLowError(\"You must be 18 or older.\")\n",
        "    print(\"Access granted.\")\n",
        "except AgeTooLowError as e:\n",
        "    print(\"Custom Error:\", e)"
      ],
      "metadata": {
        "colab": {
          "base_uri": "https://localhost:8080/"
        },
        "id": "1j0LxFUxRVU4",
        "outputId": "d141ce75-ba14-41b0-f53b-ab6ef0b672ca"
      },
      "execution_count": null,
      "outputs": [
        {
          "output_type": "stream",
          "name": "stdout",
          "text": [
            "Enter your age: 17\n",
            "Custom Error: You must be 18 or older.\n"
          ]
        }
      ]
    },
    {
      "cell_type": "markdown",
      "source": [
        "# 6. Importing and Using Modules"
      ],
      "metadata": {
        "id": "Xeo1Z0eeReFQ"
      }
    },
    {
      "cell_type": "code",
      "source": [
        "import math\n",
        "\n",
        "# math module\n",
        "print(\"Square root of 25:\", math.sqrt(25))\n",
        "print(\"Pi value:\", math.pi)\n"
      ],
      "metadata": {
        "colab": {
          "base_uri": "https://localhost:8080/"
        },
        "id": "w7JcOX8gRi_H",
        "outputId": "901bf534-4b89-4088-8e4f-6e33bae50d75"
      },
      "execution_count": null,
      "outputs": [
        {
          "output_type": "stream",
          "name": "stdout",
          "text": [
            "Square root of 25: 5.0\n",
            "Pi value: 3.141592653589793\n"
          ]
        }
      ]
    },
    {
      "cell_type": "code",
      "source": [
        "import datetime\n",
        "\n",
        "# datetime module\n",
        "now = datetime.datetime.now()\n",
        "print(\"Current date & time:\", now.strftime(\"%Y-%m-%d %H:%M:%S\"))"
      ],
      "metadata": {
        "colab": {
          "base_uri": "https://localhost:8080/"
        },
        "id": "YqmBOs7lRnsK",
        "outputId": "af1c6990-aace-4f75-fc64-457aafc407a5"
      },
      "execution_count": null,
      "outputs": [
        {
          "output_type": "stream",
          "name": "stdout",
          "text": [
            "Current date & time: 2025-10-11 03:18:21\n"
          ]
        }
      ]
    },
    {
      "cell_type": "markdown",
      "source": [
        "# 7. Practice Programs"
      ],
      "metadata": {
        "id": "LrWhWb7iRxyh"
      }
    },
    {
      "cell_type": "code",
      "source": [
        "with open(\"/content/sample.txt\", \"r\") as f:\n",
        "    content = f.read()\n",
        "    lines = content.split(\"\\n\")\n",
        "    words = content.split()\n",
        "    print(\"Lines:\", len(lines))\n",
        "    print(\"Words:\", len(words))"
      ],
      "metadata": {
        "colab": {
          "base_uri": "https://localhost:8080/"
        },
        "id": "7AG6RhhBR1tS",
        "outputId": "c5b36d0a-a2a9-47b9-edf2-4f16e1d14870"
      },
      "execution_count": null,
      "outputs": [
        {
          "output_type": "stream",
          "name": "stdout",
          "text": [
            "Lines: 2\n",
            "Words: 13\n"
          ]
        }
      ]
    },
    {
      "cell_type": "code",
      "source": [
        "with open(\"/content/sample.txt\", \"a\") as f:\n",
        "    f.write(\"\\nAppending new data to the file.\")\n",
        "print(\"Data appended!\")"
      ],
      "metadata": {
        "colab": {
          "base_uri": "https://localhost:8080/"
        },
        "id": "zbS1nYONSAkv",
        "outputId": "9465b6df-85ea-4e6a-bf19-2fb586cf6df4"
      },
      "execution_count": null,
      "outputs": [
        {
          "output_type": "stream",
          "name": "stdout",
          "text": [
            "Data appended!\n"
          ]
        }
      ]
    },
    {
      "cell_type": "code",
      "source": [
        "with open(\"/content/sample.txt\", \"r\") as f:\n",
        "    print(f.read())"
      ],
      "metadata": {
        "colab": {
          "base_uri": "https://localhost:8080/"
        },
        "id": "_ajNsYOySK3m",
        "outputId": "8221acc0-3201-4dd9-cbc4-53ef72ad945e"
      },
      "execution_count": null,
      "outputs": [
        {
          "output_type": "stream",
          "name": "stdout",
          "text": [
            "This is a safer way to handle files.\n",
            "No need to close manually!\n",
            "Appending new data to the file.\n"
          ]
        }
      ]
    },
    {
      "cell_type": "code",
      "source": [
        "try:\n",
        "    a = int(input(\"Enter a: \"))\n",
        "    b = int(input(\"Enter b: \"))\n",
        "    print(\"Result:\", a / b)\n",
        "except (ValueError, ZeroDivisionError) as e:\n",
        "    print(\"Error:\", e)\n",
        "finally:\n",
        "    print(\"Execution done.\")"
      ],
      "metadata": {
        "colab": {
          "base_uri": "https://localhost:8080/"
        },
        "id": "zS6SgEKPSQbT",
        "outputId": "08fd19c8-e9f8-41a6-a664-52b00a85e99a"
      },
      "execution_count": null,
      "outputs": [
        {
          "output_type": "stream",
          "name": "stdout",
          "text": [
            "Enter a: 11\n",
            "Enter b: 22\n",
            "Result: 0.5\n",
            "Execution done.\n"
          ]
        }
      ]
    },
    {
      "cell_type": "code",
      "source": [
        "import mymath\n",
        "\n",
        "print(\"Sum:\", mymath.add(5, 10))\n",
        "print(\"Product:\", mymath.multiply(3, 4))"
      ],
      "metadata": {
        "colab": {
          "base_uri": "https://localhost:8080/"
        },
        "id": "ELfpMOGZTYMo",
        "outputId": "a85570f7-b755-4e26-bcde-952c45de1b06"
      },
      "execution_count": 25,
      "outputs": [
        {
          "output_type": "stream",
          "name": "stdout",
          "text": [
            "Sum: 15\n",
            "Product: 12\n"
          ]
        }
      ]
    }
  ]
}