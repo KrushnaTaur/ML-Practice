{
  "nbformat": 4,
  "nbformat_minor": 0,
  "metadata": {
    "colab": {
      "provenance": [],
      "authorship_tag": "ABX9TyMGdL+dMXGMEnV/4oF6ZVz1",
      "include_colab_link": true
    },
    "kernelspec": {
      "name": "python3",
      "display_name": "Python 3"
    },
    "language_info": {
      "name": "python"
    }
  },
  "cells": [
    {
      "cell_type": "markdown",
      "metadata": {
        "id": "view-in-github",
        "colab_type": "text"
      },
      "source": [
        "<a href=\"https://colab.research.google.com/github/KrushnaTaur/ML-Practice/blob/main/01_Basics/03_DataStructures.ipynb\" target=\"_parent\"><img src=\"https://colab.research.google.com/assets/colab-badge.svg\" alt=\"Open In Colab\"/></a>"
      ]
    },
    {
      "cell_type": "markdown",
      "source": [
        "#1. Lists"
      ],
      "metadata": {
        "id": "eGP04r0B8uTv"
      }
    },
    {
      "cell_type": "code",
      "execution_count": 1,
      "metadata": {
        "colab": {
          "base_uri": "https://localhost:8080/"
        },
        "id": "N4SwvgBM8ePr",
        "outputId": "0dac7aba-45e6-44d3-9c36-dacef3014674"
      },
      "outputs": [
        {
          "output_type": "stream",
          "name": "stdout",
          "text": [
            "[10, 20, 30, 40, 50]\n",
            "First element: 10\n",
            "Last element: 50\n"
          ]
        }
      ],
      "source": [
        "# Creating and accessing list elements\n",
        "numbers = [10, 20, 30, 40, 50]\n",
        "print(numbers)\n",
        "print(\"First element:\", numbers[0])\n",
        "print(\"Last element:\", numbers[-1])"
      ]
    },
    {
      "cell_type": "code",
      "source": [
        "# Slicing\n",
        "print(\"First 3 elements:\", numbers[:3])\n",
        "print(\"Every alternate element:\", numbers[::2])"
      ],
      "metadata": {
        "colab": {
          "base_uri": "https://localhost:8080/"
        },
        "id": "DCAyjGSo83q0",
        "outputId": "79f240ff-0399-489b-861b-8ace2c63a649"
      },
      "execution_count": 2,
      "outputs": [
        {
          "output_type": "stream",
          "name": "stdout",
          "text": [
            "First 3 elements: [10, 20, 30]\n",
            "Every alternate element: [10, 30, 50]\n"
          ]
        }
      ]
    },
    {
      "cell_type": "code",
      "source": [
        "nums = [3, 1, 4, 2, 5]\n",
        "\n",
        "nums.append(10)\n",
        "print(\"Updated List:\", nums)\n",
        "\n",
        "nums.insert(2, 99)\n",
        "print(\"Updated List:\", nums)\n",
        "\n",
        "nums.remove(4)\n",
        "print(\"Updated List:\", nums)\n",
        "\n",
        "nums.pop()\n",
        "print(\"Updated List:\", nums)\n",
        "\n",
        "nums.sort()\n",
        "print(\"Updated List:\", nums)\n",
        "\n",
        "nums.reverse()\n",
        "print(\"Updated List:\", nums)"
      ],
      "metadata": {
        "colab": {
          "base_uri": "https://localhost:8080/"
        },
        "id": "18p6JpKa87nO",
        "outputId": "ae52da12-90a5-4a7d-fd4e-6beb50a020af"
      },
      "execution_count": 4,
      "outputs": [
        {
          "output_type": "stream",
          "name": "stdout",
          "text": [
            "Updated List: [3, 1, 4, 2, 5, 10]\n",
            "Updated List: [3, 1, 99, 4, 2, 5, 10]\n",
            "Updated List: [3, 1, 99, 2, 5, 10]\n",
            "Updated List: [3, 1, 99, 2, 5]\n",
            "Updated List: [1, 2, 3, 5, 99]\n",
            "Updated List: [99, 5, 3, 2, 1]\n"
          ]
        }
      ]
    },
    {
      "cell_type": "code",
      "source": [
        "numbers = [10, 20, 30, 40, 50]\n",
        "average = sum(numbers) / len(numbers)\n",
        "print(\"Average:\", average)"
      ],
      "metadata": {
        "colab": {
          "base_uri": "https://localhost:8080/"
        },
        "id": "Ce_4IlTO9T8q",
        "outputId": "a4a8d033-a27b-4472-b475-701b75036d91"
      },
      "execution_count": 5,
      "outputs": [
        {
          "output_type": "stream",
          "name": "stdout",
          "text": [
            "Average: 30.0\n"
          ]
        }
      ]
    },
    {
      "cell_type": "code",
      "source": [
        "List = [1,2,\"MIT\",3.4]   #create\n",
        "print(List[2])           #access\n",
        "print(List[-2])\n",
        "print(List[1:4])         #slicing\n",
        "List.append(\"mit\")       #adding ele\n",
        "List.remove(2)           #removing ele\n",
        "print(List)\n",
        "List.insert(0,\"Krish\")   #addSpecificIndex\n",
        "print(List)\n",
        "List[0]=\"Krushna\"        #changing\n",
        "print(List)\n",
        "print(len(List))         #length\n",
        "for val in List:         #iterate\n",
        "    print(val)\n",
        "if 1 in List:            #PresentOrNot\n",
        "    print(\"Element exists in the list\")\n",
        "else:\n",
        "    print(\"Element does not exist\")"
      ],
      "metadata": {
        "colab": {
          "base_uri": "https://localhost:8080/"
        },
        "id": "l_S9hUI8BSRz",
        "outputId": "325d8586-f04c-4657-90bd-922bebf490fd"
      },
      "execution_count": 26,
      "outputs": [
        {
          "output_type": "stream",
          "name": "stdout",
          "text": [
            "MIT\n",
            "MIT\n",
            "[2, 'MIT', 3.4]\n",
            "[1, 'MIT', 3.4, 'mit']\n",
            "['Krish', 1, 'MIT', 3.4, 'mit']\n",
            "['Krushna', 1, 'MIT', 3.4, 'mit']\n",
            "5\n",
            "Krushna\n",
            "1\n",
            "MIT\n",
            "3.4\n",
            "mit\n",
            "Element exists in the list\n"
          ]
        }
      ]
    },
    {
      "cell_type": "markdown",
      "source": [
        "# 2. Strings"
      ],
      "metadata": {
        "id": "rsdP2AVtAg_m"
      }
    },
    {
      "cell_type": "code",
      "source": [
        "Str=\"Python\"\n",
        "Str1=\"Java\"\n",
        "print(Str)\n",
        "print(Str1)      #access\n",
        "print(Str[1])      #access\n",
        "print(Str[-2])     #negAccess\n",
        "print(Str[1:3])    #slicing\n",
        "print(Str[::-1])   #reverse\n",
        "print(Str==Str1)   #compare\n",
        "print(Str+Str1)    #concat\n",
        "for Str2 in Str:   #iterate\n",
        "    print(Str2)\n",
        "print(len(Str1))   #length\n",
        "Str = Str.replace(\"P\", \"\")  #delete\n",
        "print(Str)\n"
      ],
      "metadata": {
        "colab": {
          "base_uri": "https://localhost:8080/"
        },
        "id": "qFYs9qZ6A1T2",
        "outputId": "9ff7f63d-635d-409e-feb9-b6ab52743a35"
      },
      "execution_count": 24,
      "outputs": [
        {
          "output_type": "stream",
          "name": "stdout",
          "text": [
            "Python\n",
            "Java\n",
            "y\n",
            "o\n",
            "yt\n",
            "nohtyP\n",
            "False\n",
            "PythonJava\n",
            "P\n",
            "y\n",
            "t\n",
            "h\n",
            "o\n",
            "n\n",
            "4\n",
            "ython\n"
          ]
        }
      ]
    },
    {
      "cell_type": "markdown",
      "source": [
        "# 3. Tuples"
      ],
      "metadata": {
        "id": "Fa7xpHyI9ZSj"
      }
    },
    {
      "cell_type": "code",
      "source": [
        "t = (1, 2, 3, 4, 5)\n",
        "print(t)\n",
        "print(\"Length:\", len(t))\n",
        "print(\"Index of 3:\", t.index(3))\n",
        "print(\"Count of 2:\", t.count(2))"
      ],
      "metadata": {
        "colab": {
          "base_uri": "https://localhost:8080/"
        },
        "id": "-o2afvNG9ek2",
        "outputId": "d8aa7e9d-222b-4241-8c95-8c0995eb92c9"
      },
      "execution_count": 6,
      "outputs": [
        {
          "output_type": "stream",
          "name": "stdout",
          "text": [
            "(1, 2, 3, 4, 5)\n",
            "Length: 5\n",
            "Index of 3: 2\n",
            "Count of 2: 1\n"
          ]
        }
      ]
    },
    {
      "cell_type": "code",
      "source": [
        "a, b = 5, 10\n",
        "a, b = b, a\n",
        "print(\"After swapping:\", a, b)"
      ],
      "metadata": {
        "colab": {
          "base_uri": "https://localhost:8080/"
        },
        "id": "q1FNQReR9kUe",
        "outputId": "0bef7747-477f-4308-9d95-c9f43b2a5da7"
      },
      "execution_count": 7,
      "outputs": [
        {
          "output_type": "stream",
          "name": "stdout",
          "text": [
            "After swapping: 10 5\n"
          ]
        }
      ]
    },
    {
      "cell_type": "code",
      "source": [
        "Tuple=(\"apple\", \"banana\", \"cherry\")     #create\n",
        "print(Tuple[2])                         #access\n",
        "print(len(Tuple))                       #length\n",
        "for val in Tuple:                       #iterate\n",
        "    print(val)\n",
        "if \"apple\" in Tuple:                    #PresentOrNot\n",
        "    print(\"Element exists in the list\")\n",
        "else:\n",
        "    print(\"Element does not exist\")\n",
        "del Tuple"
      ],
      "metadata": {
        "colab": {
          "base_uri": "https://localhost:8080/"
        },
        "id": "JeEHf8YYBbMY",
        "outputId": "f25d92a1-65b2-4f37-dcaf-3567f9bf18a1"
      },
      "execution_count": 28,
      "outputs": [
        {
          "output_type": "stream",
          "name": "stdout",
          "text": [
            "cherry\n",
            "3\n",
            "apple\n",
            "banana\n",
            "cherry\n",
            "Element exists in the list\n"
          ]
        }
      ]
    },
    {
      "cell_type": "markdown",
      "source": [
        "# 4. Sets"
      ],
      "metadata": {
        "id": "oZpWnCAq9rZJ"
      }
    },
    {
      "cell_type": "code",
      "source": [
        "set1 = {1, 2, 3, 4, 5}\n",
        "set2 = {4, 5, 6, 7}\n",
        "\n",
        "print(\"Union:\", set1 | set2)\n",
        "print(\"Intersection:\", set1 & set2)\n",
        "print(\"Difference:\", set1 - set2)\n",
        "print(\"Is 3 in set1?\", 3 in set1)"
      ],
      "metadata": {
        "colab": {
          "base_uri": "https://localhost:8080/"
        },
        "id": "0WXOfday9yI5",
        "outputId": "418378fa-bcbf-4d2d-deca-af246e1d907c"
      },
      "execution_count": 8,
      "outputs": [
        {
          "output_type": "stream",
          "name": "stdout",
          "text": [
            "Union: {1, 2, 3, 4, 5, 6, 7}\n",
            "Intersection: {4, 5}\n",
            "Difference: {1, 2, 3}\n",
            "Is 3 in set1? True\n"
          ]
        }
      ]
    },
    {
      "cell_type": "code",
      "source": [
        "sentence = \"python is easy and python is powerful\"\n",
        "unique_words = set(sentence.split())\n",
        "print(\"Unique words:\", unique_words)"
      ],
      "metadata": {
        "colab": {
          "base_uri": "https://localhost:8080/"
        },
        "id": "Bs3kmjNP95-R",
        "outputId": "28e74618-0c6b-4a8a-9f97-90ecc794d022"
      },
      "execution_count": 9,
      "outputs": [
        {
          "output_type": "stream",
          "name": "stdout",
          "text": [
            "Unique words: {'easy', 'python', 'is', 'powerful', 'and'}\n"
          ]
        }
      ]
    },
    {
      "cell_type": "code",
      "source": [
        "Set= {\"Krish\", \"Rohit\"}      #create\n",
        "Set.add(\"Gaurav\")            #adding\n",
        "print(Set)\n",
        "print(len(Set))              #length\n",
        "for val in Set:                       #iterate\n",
        "    print(val)\n",
        "if \"Krish\" in Set:                    #PresentOrNot\n",
        "    print(\"Element exists in the list\")\n",
        "else:\n",
        "    print(\"Element does not exist\")\n",
        "Set1={\"MIT\", \"ASIA\"}\n",
        "Set2= Set.union(Set1)                    #join\n",
        "print(Set2)"
      ],
      "metadata": {
        "colab": {
          "base_uri": "https://localhost:8080/"
        },
        "id": "3MzLgt7dBW7x",
        "outputId": "b657595b-e5ee-4165-f8bc-a108f5575ac7"
      },
      "execution_count": 27,
      "outputs": [
        {
          "output_type": "stream",
          "name": "stdout",
          "text": [
            "{'Krish', 'Rohit', 'Gaurav'}\n",
            "3\n",
            "Krish\n",
            "Rohit\n",
            "Gaurav\n",
            "Element exists in the list\n",
            "{'Rohit', 'MIT', 'ASIA', 'Krish', 'Gaurav'}\n"
          ]
        }
      ]
    },
    {
      "cell_type": "markdown",
      "source": [
        "# 5. Dictionaries"
      ],
      "metadata": {
        "id": "Wc0MR5R--CMt"
      }
    },
    {
      "cell_type": "code",
      "source": [
        "student = {\n",
        "    \"name\": \"Krish\",\n",
        "    \"age\": 19,\n",
        "    \"branch\": \"AI&DS\"\n",
        "}\n",
        "\n",
        "print(\"Name:\", student[\"name\"])\n",
        "print(\"All keys:\", student.keys())\n",
        "print(\"All values:\", student.values())"
      ],
      "metadata": {
        "colab": {
          "base_uri": "https://localhost:8080/"
        },
        "id": "Upjsmj2U-G7P",
        "outputId": "4e86f094-9967-4db1-c75f-84240bb7a19f"
      },
      "execution_count": 10,
      "outputs": [
        {
          "output_type": "stream",
          "name": "stdout",
          "text": [
            "Name: Krish\n",
            "All keys: dict_keys(['name', 'age', 'branch'])\n",
            "All values: dict_values(['Krish', 19, 'AI&DS'])\n"
          ]
        }
      ]
    },
    {
      "cell_type": "code",
      "source": [
        "student[\"college\"] = \"MIT\"\n",
        "student[\"age\"] = 20\n",
        "print(\"Updated:\", student)"
      ],
      "metadata": {
        "colab": {
          "base_uri": "https://localhost:8080/"
        },
        "id": "LCDqjJ5J-LH6",
        "outputId": "ff0e9ae3-d415-4355-b004-03d20558c4ca"
      },
      "execution_count": 11,
      "outputs": [
        {
          "output_type": "stream",
          "name": "stdout",
          "text": [
            "Updated: {'name': 'Krish', 'age': 20, 'branch': 'AI&DS', 'college': 'MIT'}\n"
          ]
        }
      ]
    },
    {
      "cell_type": "code",
      "source": [
        "del student[\"branch\"]\n",
        "print(\"After deletion:\", student)"
      ],
      "metadata": {
        "colab": {
          "base_uri": "https://localhost:8080/"
        },
        "id": "xQbJ0xFG-OLi",
        "outputId": "f86a2dbe-2aba-402d-9e8a-cfda56f256f1"
      },
      "execution_count": 12,
      "outputs": [
        {
          "output_type": "stream",
          "name": "stdout",
          "text": [
            "After deletion: {'name': 'Krish', 'age': 20, 'college': 'MIT'}\n"
          ]
        }
      ]
    },
    {
      "cell_type": "code",
      "source": [
        "fruits = {\"apple\": 100, \"banana\": 40, \"mango\": 70}\n",
        "total = sum(fruits.values())\n",
        "print(\"Total Cost:\", total)"
      ],
      "metadata": {
        "colab": {
          "base_uri": "https://localhost:8080/"
        },
        "id": "NrwVOxCY-QB7",
        "outputId": "4e1c1cf9-7329-4647-d1d6-dbfe533f2d73"
      },
      "execution_count": 13,
      "outputs": [
        {
          "output_type": "stream",
          "name": "stdout",
          "text": [
            "Total Cost: 210\n"
          ]
        }
      ]
    },
    {
      "cell_type": "code",
      "source": [
        "Dict = {\"Name\": \"Krish\", \"Age\": \"19\"}      #create\n",
        "print(Dict)\n",
        "x = Dict[\"Name\"]                           #access\n",
        "print(x)\n",
        "Dict[\"RollNo\"] = \"86\"                      #addEle\n",
        "print(Dict)\n",
        "Dict.pop(\"Age\")                            #removeEle\n",
        "print(Dict)\n",
        "for val in Dict.values():                  #iterate\n",
        "    print(val)"
      ],
      "metadata": {
        "colab": {
          "base_uri": "https://localhost:8080/"
        },
        "id": "TDQAy20oBfmO",
        "outputId": "1a102315-8cea-41c7-b863-0adce48927f2"
      },
      "execution_count": 29,
      "outputs": [
        {
          "output_type": "stream",
          "name": "stdout",
          "text": [
            "{'Name': 'Krish', 'Age': '19'}\n",
            "Krish\n",
            "{'Name': 'Krish', 'Age': '19', 'RollNo': '86'}\n",
            "{'Name': 'Krish', 'RollNo': '86'}\n",
            "Krish\n",
            "86\n"
          ]
        }
      ]
    },
    {
      "cell_type": "markdown",
      "source": [
        "# 6. Range"
      ],
      "metadata": {
        "id": "yuza-xCdBmaJ"
      }
    },
    {
      "cell_type": "code",
      "source": [
        "#Range\n",
        "\n",
        "x = range(6)\n",
        "for n in x:\n",
        "  print(n)\n",
        "\n",
        "x = range(3, 6)\n",
        "for n in x:\n",
        "  print(n)"
      ],
      "metadata": {
        "colab": {
          "base_uri": "https://localhost:8080/"
        },
        "id": "Whf-9o_ZBp3L",
        "outputId": "be646223-890c-4124-9505-15a65f2ccda6"
      },
      "execution_count": 30,
      "outputs": [
        {
          "output_type": "stream",
          "name": "stdout",
          "text": [
            "0\n",
            "1\n",
            "2\n",
            "3\n",
            "4\n",
            "5\n",
            "3\n",
            "4\n",
            "5\n"
          ]
        }
      ]
    },
    {
      "cell_type": "markdown",
      "source": [
        "# 7. Indexing & Slicing"
      ],
      "metadata": {
        "id": "TPinsYnV-XI9"
      }
    },
    {
      "cell_type": "code",
      "source": [
        "my_list = ['A', 'B', 'C', 'D', 'E']\n",
        "print(my_list)\n",
        "print(my_list[1:4])     # Slicing\n",
        "print(my_list[::-1])    # Reverse list\n",
        "print(my_list[:3])      # First 3 items"
      ],
      "metadata": {
        "colab": {
          "base_uri": "https://localhost:8080/"
        },
        "id": "qZ6V-duJ-aCV",
        "outputId": "4ee34d3a-b87d-41a6-d3d8-c6b68976257e"
      },
      "execution_count": 17,
      "outputs": [
        {
          "output_type": "stream",
          "name": "stdout",
          "text": [
            "['A', 'B', 'C', 'D', 'E']\n",
            "['B', 'C', 'D']\n",
            "['E', 'D', 'C', 'B', 'A']\n",
            "['A', 'B', 'C']\n"
          ]
        }
      ]
    },
    {
      "cell_type": "markdown",
      "source": [
        "# 8. Nested Lists & Dictionaries"
      ],
      "metadata": {
        "id": "l6zJYLuj-ymP"
      }
    },
    {
      "cell_type": "code",
      "source": [
        "# Nested List\n",
        "matrix = [\n",
        "    [1, 2, 3],\n",
        "    [4, 5, 6],\n",
        "    [7, 8, 9]\n",
        "]\n",
        "print(matrix)\n",
        "print(\"Matrix element (2,3):\", matrix[1][2])"
      ],
      "metadata": {
        "colab": {
          "base_uri": "https://localhost:8080/"
        },
        "id": "LHARiqog-11o",
        "outputId": "ab865121-f5e1-4381-b237-36c7dce3f606"
      },
      "execution_count": 16,
      "outputs": [
        {
          "output_type": "stream",
          "name": "stdout",
          "text": [
            "[[1, 2, 3], [4, 5, 6], [7, 8, 9]]\n",
            "Matrix element (2,3): 6\n"
          ]
        }
      ]
    },
    {
      "cell_type": "code",
      "source": [
        "# Nested Dictionary\n",
        "students = {\n",
        "    \"Krish\": {\"age\": 19, \"branch\": \"AI&DS\"},\n",
        "    \"Rohit\": {\"age\": 20, \"branch\": \"CSE\"}\n",
        "}\n",
        "print(students)\n",
        "print(students[\"Rohit\"][\"branch\"])"
      ],
      "metadata": {
        "colab": {
          "base_uri": "https://localhost:8080/"
        },
        "id": "Vp2eCL-Q_Aml",
        "outputId": "37fe9442-23f9-41b8-b6f1-7da1b0887999"
      },
      "execution_count": 18,
      "outputs": [
        {
          "output_type": "stream",
          "name": "stdout",
          "text": [
            "{'Krish': {'age': 19, 'branch': 'AI&DS'}, 'Rohit': {'age': 20, 'branch': 'CSE'}}\n",
            "CSE\n"
          ]
        }
      ]
    },
    {
      "cell_type": "code",
      "source": [
        "for name in students.keys():\n",
        "    print(\"Student:\", name)"
      ],
      "metadata": {
        "colab": {
          "base_uri": "https://localhost:8080/"
        },
        "id": "hw2xUnzs_JxY",
        "outputId": "b9d2ed11-252e-4957-a715-cf1b958e4d29"
      },
      "execution_count": 19,
      "outputs": [
        {
          "output_type": "stream",
          "name": "stdout",
          "text": [
            "Student: Krish\n",
            "Student: Rohit\n"
          ]
        }
      ]
    },
    {
      "cell_type": "markdown",
      "source": [
        "# 9. Mini Practice Tasks"
      ],
      "metadata": {
        "id": "41pyCIXr_Pqx"
      }
    },
    {
      "cell_type": "code",
      "source": [
        "# Frequency Counter\n",
        "# Count occurrences of each word in a string.\n",
        "\n",
        "sentence = \"data is important and data is powerful\"\n",
        "words = sentence.split()\n",
        "freq = {}\n",
        "\n",
        "for w in words:\n",
        "    freq[w] = freq.get(w, 0) + 1\n",
        "\n",
        "print(freq)"
      ],
      "metadata": {
        "colab": {
          "base_uri": "https://localhost:8080/"
        },
        "id": "I9EIAAC-_SfM",
        "outputId": "d7ae1b44-fb9f-48dc-84fc-098e544c833f"
      },
      "execution_count": 20,
      "outputs": [
        {
          "output_type": "stream",
          "name": "stdout",
          "text": [
            "{'data': 2, 'is': 2, 'important': 1, 'and': 1, 'powerful': 1}\n"
          ]
        }
      ]
    },
    {
      "cell_type": "code",
      "source": [
        "# Remove Duplicates from a List\n",
        "\n",
        "nums = [1, 2, 2, 3, 4, 4, 5]\n",
        "unique_nums = list(set(nums))\n",
        "print(\"Unique Numbers:\", unique_nums)"
      ],
      "metadata": {
        "colab": {
          "base_uri": "https://localhost:8080/"
        },
        "id": "8-IASReK_eq8",
        "outputId": "c44d74cf-a1f3-4dcc-c138-3cba3be878cf"
      },
      "execution_count": 21,
      "outputs": [
        {
          "output_type": "stream",
          "name": "stdout",
          "text": [
            "Unique Numbers: [1, 2, 3, 4, 5]\n"
          ]
        }
      ]
    },
    {
      "cell_type": "code",
      "source": [
        "# Sort a Dictionary by Value\n",
        "\n",
        "scores = {\"A\": 55, \"B\": 90, \"C\": 70}\n",
        "sorted_scores = dict(sorted(scores.items(), key=lambda x: x[1]))\n",
        "print(\"Sorted Dictionary:\", sorted_scores)"
      ],
      "metadata": {
        "colab": {
          "base_uri": "https://localhost:8080/"
        },
        "id": "zHgujg_I_qa-",
        "outputId": "2904e216-6e98-4d0c-8505-d2e5118210b1"
      },
      "execution_count": 22,
      "outputs": [
        {
          "output_type": "stream",
          "name": "stdout",
          "text": [
            "Sorted Dictionary: {'A': 55, 'C': 70, 'B': 90}\n"
          ]
        }
      ]
    },
    {
      "cell_type": "code",
      "source": [
        "# Merge Two Dictionaries\n",
        "\n",
        "d1 = {\"a\": 1, \"b\": 2}\n",
        "d2 = {\"c\": 3, \"d\": 4}\n",
        "merged = {**d1, **d2}\n",
        "print(\"Merged:\", merged)"
      ],
      "metadata": {
        "colab": {
          "base_uri": "https://localhost:8080/"
        },
        "id": "KE-3KdZS_wbY",
        "outputId": "6c8c9f1d-5e70-4d5e-c892-e45ccf5c3834"
      },
      "execution_count": 23,
      "outputs": [
        {
          "output_type": "stream",
          "name": "stdout",
          "text": [
            "Merged: {'a': 1, 'b': 2, 'c': 3, 'd': 4}\n"
          ]
        }
      ]
    }
  ]
}