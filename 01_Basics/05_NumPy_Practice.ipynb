{
  "nbformat": 4,
  "nbformat_minor": 0,
  "metadata": {
    "colab": {
      "provenance": [],
      "authorship_tag": "ABX9TyOzl+7SBTZSx0aGO/KtCrST",
      "include_colab_link": true
    },
    "kernelspec": {
      "name": "python3",
      "display_name": "Python 3"
    },
    "language_info": {
      "name": "python"
    }
  },
  "cells": [
    {
      "cell_type": "markdown",
      "metadata": {
        "id": "view-in-github",
        "colab_type": "text"
      },
      "source": [
        "<a href=\"https://colab.research.google.com/github/KrushnaTaur/ML-Practice/blob/main/01_Basics/05_NumPy_Practice.ipynb\" target=\"_parent\"><img src=\"https://colab.research.google.com/assets/colab-badge.svg\" alt=\"Open In Colab\"/></a>"
      ]
    },
    {
      "cell_type": "markdown",
      "source": [
        "# 1. Introduction to NumPy Arrays"
      ],
      "metadata": {
        "id": "M44fphEd5Woc"
      }
    },
    {
      "cell_type": "code",
      "execution_count": 1,
      "metadata": {
        "id": "Qn5ccnLp4qzE"
      },
      "outputs": [],
      "source": [
        "import numpy as np"
      ]
    },
    {
      "cell_type": "code",
      "source": [
        "# Create a simple list and convert to numpy array\n",
        "list1 = [1, 2, 3, 4, 5]\n",
        "arr1 = np.array(list1)\n",
        "print(\"Array:\", arr1)\n",
        "print(\"Type:\", type(arr1))"
      ],
      "metadata": {
        "colab": {
          "base_uri": "https://localhost:8080/"
        },
        "id": "yAlmFP9w5RKC",
        "outputId": "393371fd-b184-489e-b105-82d4913a95e7"
      },
      "execution_count": 2,
      "outputs": [
        {
          "output_type": "stream",
          "name": "stdout",
          "text": [
            "Array: [1 2 3 4 5]\n",
            "Type: <class 'numpy.ndarray'>\n"
          ]
        }
      ]
    },
    {
      "cell_type": "code",
      "source": [
        "# 2D Array\n",
        "arr2 = np.array([[1, 2, 3], [4, 5, 6]])\n",
        "print(\"2D Array:\\n\", arr2)"
      ],
      "metadata": {
        "colab": {
          "base_uri": "https://localhost:8080/"
        },
        "id": "SKELVd7F5RDT",
        "outputId": "13abdb3e-6b0a-48cc-fa43-8f218e4c1cbf"
      },
      "execution_count": 3,
      "outputs": [
        {
          "output_type": "stream",
          "name": "stdout",
          "text": [
            "2D Array:\n",
            " [[1 2 3]\n",
            " [4 5 6]]\n"
          ]
        }
      ]
    },
    {
      "cell_type": "markdown",
      "source": [
        "# 2. Creating Arrays (zeros, ones, arange, linspace)"
      ],
      "metadata": {
        "id": "JBFTcIG05ll7"
      }
    },
    {
      "cell_type": "code",
      "source": [
        "a = np.zeros((2,3))\n",
        "b = np.ones((3,3))\n",
        "c = np.arange(1,10,2)\n",
        "d = np.linspace(0,1,5)\n",
        "\n",
        "print(\"Zeros:\\n\", a)\n",
        "print(\"Ones:\\n\", b)\n",
        "print(\"Arange:\\n\", c)\n",
        "print(\"Linspace:\\n\", d)"
      ],
      "metadata": {
        "colab": {
          "base_uri": "https://localhost:8080/"
        },
        "id": "761q4nu15oTx",
        "outputId": "83cc8b18-fe46-4475-9b16-389d95ab9497"
      },
      "execution_count": 15,
      "outputs": [
        {
          "output_type": "stream",
          "name": "stdout",
          "text": [
            "Zeros:\n",
            " [[0. 0. 0.]\n",
            " [0. 0. 0.]]\n",
            "Ones:\n",
            " [[1. 1. 1.]\n",
            " [1. 1. 1.]\n",
            " [1. 1. 1.]]\n",
            "Arange:\n",
            " [1 3 5 7 9]\n",
            "Linspace:\n",
            " [0.   0.25 0.5  0.75 1.  ]\n"
          ]
        }
      ]
    },
    {
      "cell_type": "markdown",
      "source": [
        "# 3. Array Indexing & Slicing"
      ],
      "metadata": {
        "id": "ojuD4asy6D9D"
      }
    },
    {
      "cell_type": "code",
      "source": [
        "arr = np.array([10,20,30,40,50,60,70])\n",
        "print(arr[2])      # single element"
      ],
      "metadata": {
        "colab": {
          "base_uri": "https://localhost:8080/"
        },
        "id": "4slzd1pX6IHa",
        "outputId": "7b8a00c1-ea80-4447-80d7-22c6e35836cc"
      },
      "execution_count": 10,
      "outputs": [
        {
          "output_type": "stream",
          "name": "stdout",
          "text": [
            "30\n"
          ]
        }
      ]
    },
    {
      "cell_type": "code",
      "source": [
        "print(arr[1:5])    # slicing"
      ],
      "metadata": {
        "colab": {
          "base_uri": "https://localhost:8080/"
        },
        "id": "xy8ekQCP6luV",
        "outputId": "86832715-7e3c-44b7-8ac6-308366a8b5f6"
      },
      "execution_count": 11,
      "outputs": [
        {
          "output_type": "stream",
          "name": "stdout",
          "text": [
            "[20 30 40 50]\n"
          ]
        }
      ]
    },
    {
      "cell_type": "code",
      "source": [
        "print(arr[-3:])    # from end"
      ],
      "metadata": {
        "colab": {
          "base_uri": "https://localhost:8080/"
        },
        "id": "qS0vwQUH6oro",
        "outputId": "6ac3681d-b5dc-4f45-8460-b616eeee22fa"
      },
      "execution_count": 12,
      "outputs": [
        {
          "output_type": "stream",
          "name": "stdout",
          "text": [
            "[50 60 70]\n"
          ]
        }
      ]
    },
    {
      "cell_type": "code",
      "source": [
        "print(arr[::2])    # step slicing"
      ],
      "metadata": {
        "colab": {
          "base_uri": "https://localhost:8080/"
        },
        "id": "98dD0aEs6rNE",
        "outputId": "bfe53d5d-32fe-49c7-be59-bda85e2e5af5"
      },
      "execution_count": 13,
      "outputs": [
        {
          "output_type": "stream",
          "name": "stdout",
          "text": [
            "[10 30 50 70]\n"
          ]
        }
      ]
    },
    {
      "cell_type": "code",
      "source": [
        "arr[3] = 99        # modify\n",
        "print(\"Modified:\", arr)"
      ],
      "metadata": {
        "colab": {
          "base_uri": "https://localhost:8080/"
        },
        "id": "B8PYEKGa6sux",
        "outputId": "3bc53eb6-5355-43d4-a059-9acc99a368df"
      },
      "execution_count": 14,
      "outputs": [
        {
          "output_type": "stream",
          "name": "stdout",
          "text": [
            "Modified: [10 20 30 99 50 60 70]\n"
          ]
        }
      ]
    },
    {
      "cell_type": "markdown",
      "source": [
        "# 4. Array Operations"
      ],
      "metadata": {
        "id": "0riUa45P6X3P"
      }
    },
    {
      "cell_type": "code",
      "source": [
        "a = np.array([1,2,3])\n",
        "b = np.array([4,5,6])\n",
        "\n",
        "print(\"Addition:\", a + b)"
      ],
      "metadata": {
        "colab": {
          "base_uri": "https://localhost:8080/"
        },
        "id": "J4hPT9R26aHX",
        "outputId": "ee370365-05c4-4394-9d3b-c368ca483d08"
      },
      "execution_count": 16,
      "outputs": [
        {
          "output_type": "stream",
          "name": "stdout",
          "text": [
            "Addition: [5 7 9]\n"
          ]
        }
      ]
    },
    {
      "cell_type": "code",
      "source": [
        "print(\"Multiplication:\", a * b)"
      ],
      "metadata": {
        "colab": {
          "base_uri": "https://localhost:8080/"
        },
        "id": "dtmQiNyV6-SA",
        "outputId": "e5b6fdc6-b4b0-4560-af47-8c019391e06c"
      },
      "execution_count": 17,
      "outputs": [
        {
          "output_type": "stream",
          "name": "stdout",
          "text": [
            "Multiplication: [ 4 10 18]\n"
          ]
        }
      ]
    },
    {
      "cell_type": "code",
      "source": [
        "print(\"Mean:\", a.mean())"
      ],
      "metadata": {
        "colab": {
          "base_uri": "https://localhost:8080/"
        },
        "id": "v4BvSnrU7AsH",
        "outputId": "dd57a50b-3009-49cf-bccc-e254ac62aefd"
      },
      "execution_count": 18,
      "outputs": [
        {
          "output_type": "stream",
          "name": "stdout",
          "text": [
            "Mean: 2.0\n"
          ]
        }
      ]
    },
    {
      "cell_type": "code",
      "source": [
        "print(\"Reshape:\", np.arange(1,10).reshape(3,3))"
      ],
      "metadata": {
        "colab": {
          "base_uri": "https://localhost:8080/"
        },
        "id": "XO3L_FIx7DWK",
        "outputId": "7ea0cf4e-5ddc-4599-8449-246fdc8aa266"
      },
      "execution_count": 19,
      "outputs": [
        {
          "output_type": "stream",
          "name": "stdout",
          "text": [
            "Reshape: [[1 2 3]\n",
            " [4 5 6]\n",
            " [7 8 9]]\n"
          ]
        }
      ]
    },
    {
      "cell_type": "markdown",
      "source": [
        "#5. Mathematical Functions"
      ],
      "metadata": {
        "id": "p4XJQm4d7ly-"
      }
    },
    {
      "cell_type": "code",
      "source": [
        "arr = np.array([4,9,16,25])"
      ],
      "metadata": {
        "id": "5K1014ko7q-p"
      },
      "execution_count": 20,
      "outputs": []
    },
    {
      "cell_type": "code",
      "source": [
        "print(\"Sqrt:\", np.sqrt(arr))"
      ],
      "metadata": {
        "colab": {
          "base_uri": "https://localhost:8080/"
        },
        "id": "O_RsVINu7tSJ",
        "outputId": "44e77ef6-b8fe-4bef-ce5b-29bd5b95cdd4"
      },
      "execution_count": 21,
      "outputs": [
        {
          "output_type": "stream",
          "name": "stdout",
          "text": [
            "Sqrt: [2. 3. 4. 5.]\n"
          ]
        }
      ]
    },
    {
      "cell_type": "code",
      "source": [
        "print(\"Sum:\", np.sum(arr))"
      ],
      "metadata": {
        "colab": {
          "base_uri": "https://localhost:8080/"
        },
        "id": "nkdfJK2q7v5Y",
        "outputId": "5764bce5-ac6c-47e8-92c4-3382f2f3e875"
      },
      "execution_count": 22,
      "outputs": [
        {
          "output_type": "stream",
          "name": "stdout",
          "text": [
            "Sum: 54\n"
          ]
        }
      ]
    },
    {
      "cell_type": "code",
      "source": [
        "print(\"Dot Product:\", np.dot([1,2],[3,4]))"
      ],
      "metadata": {
        "colab": {
          "base_uri": "https://localhost:8080/"
        },
        "id": "zqbWidym7yTY",
        "outputId": "4a24a9de-1d29-4240-9210-674c76ad1764"
      },
      "execution_count": 23,
      "outputs": [
        {
          "output_type": "stream",
          "name": "stdout",
          "text": [
            "Dot Product: 11\n"
          ]
        }
      ]
    },
    {
      "cell_type": "code",
      "source": [
        "print(\"Exp:\", np.exp(arr))"
      ],
      "metadata": {
        "colab": {
          "base_uri": "https://localhost:8080/"
        },
        "id": "SX0QDxCV73r_",
        "outputId": "3d911702-b4d0-4e00-bd6f-35148eb7dbd2"
      },
      "execution_count": 24,
      "outputs": [
        {
          "output_type": "stream",
          "name": "stdout",
          "text": [
            "Exp: [5.45981500e+01 8.10308393e+03 8.88611052e+06 7.20048993e+10]\n"
          ]
        }
      ]
    },
    {
      "cell_type": "markdown",
      "source": [
        "# 6. Random Numbers with np.random"
      ],
      "metadata": {
        "id": "ryLRoL7u7940"
      }
    },
    {
      "cell_type": "code",
      "source": [
        "print(\"Random int 0–10:\", np.random.randint(0,10,5))"
      ],
      "metadata": {
        "colab": {
          "base_uri": "https://localhost:8080/"
        },
        "id": "eV2OH5288BSG",
        "outputId": "c014b1ed-e989-438b-df79-1d09cbde4260"
      },
      "execution_count": 25,
      "outputs": [
        {
          "output_type": "stream",
          "name": "stdout",
          "text": [
            "Random int 0–10: [7 5 8 4 8]\n"
          ]
        }
      ]
    },
    {
      "cell_type": "code",
      "source": [
        "print(\"Random float:\", np.random.rand(3))"
      ],
      "metadata": {
        "colab": {
          "base_uri": "https://localhost:8080/"
        },
        "id": "51zza1Q68Gt6",
        "outputId": "7ac8d018-d2f2-465a-b825-b1c7ecadea6b"
      },
      "execution_count": 26,
      "outputs": [
        {
          "output_type": "stream",
          "name": "stdout",
          "text": [
            "Random float: [0.37670832 0.26091253 0.34449995]\n"
          ]
        }
      ]
    },
    {
      "cell_type": "code",
      "source": [
        "print(\"Random 2D Array:\\n\", np.random.randn(3,3))"
      ],
      "metadata": {
        "colab": {
          "base_uri": "https://localhost:8080/"
        },
        "id": "7KT14y_e8Ikb",
        "outputId": "08be6931-ef13-44a1-bb53-485cf6d75986"
      },
      "execution_count": 27,
      "outputs": [
        {
          "output_type": "stream",
          "name": "stdout",
          "text": [
            "Random 2D Array:\n",
            " [[-0.13598012  0.14658106 -0.50808786]\n",
            " [-0.68791824  0.8806284   0.39949804]\n",
            " [-0.04993975  0.12857629 -0.04049565]]\n"
          ]
        }
      ]
    },
    {
      "cell_type": "markdown",
      "source": [
        "# 7. NumPy Practice Problems"
      ],
      "metadata": {
        "id": "PH6QHkXx8SD1"
      }
    },
    {
      "cell_type": "markdown",
      "source": [
        "Create and Inspect"
      ],
      "metadata": {
        "id": "r70pQbPe8eYg"
      }
    },
    {
      "cell_type": "code",
      "source": [
        "arr = np.arange(10, 55, 5)"
      ],
      "metadata": {
        "id": "mEwco3ox8WIu"
      },
      "execution_count": 28,
      "outputs": []
    },
    {
      "cell_type": "code",
      "source": [
        "print(\"Array:\", arr)"
      ],
      "metadata": {
        "colab": {
          "base_uri": "https://localhost:8080/"
        },
        "id": "2TiOKt_G8hYn",
        "outputId": "c4ba8a18-aa71-4c3f-b7d7-6b7f7824dd2d"
      },
      "execution_count": 29,
      "outputs": [
        {
          "output_type": "stream",
          "name": "stdout",
          "text": [
            "Array: [10 15 20 25 30 35 40 45 50]\n"
          ]
        }
      ]
    },
    {
      "cell_type": "code",
      "source": [
        "print(\"Shape:\", arr.shape)"
      ],
      "metadata": {
        "colab": {
          "base_uri": "https://localhost:8080/"
        },
        "id": "HrSi8h2f8wpt",
        "outputId": "a88cbcee-4937-4627-f53e-3098e4d97ed5"
      },
      "execution_count": 30,
      "outputs": [
        {
          "output_type": "stream",
          "name": "stdout",
          "text": [
            "Shape: (9,)\n"
          ]
        }
      ]
    },
    {
      "cell_type": "code",
      "source": [
        "print(\"Dimensions:\", arr.ndim)"
      ],
      "metadata": {
        "colab": {
          "base_uri": "https://localhost:8080/"
        },
        "id": "JWjWMsNd80zo",
        "outputId": "07be12b2-945a-460e-e6b0-5624865d6526"
      },
      "execution_count": 31,
      "outputs": [
        {
          "output_type": "stream",
          "name": "stdout",
          "text": [
            "Dimensions: 1\n"
          ]
        }
      ]
    },
    {
      "cell_type": "code",
      "source": [
        "print(\"Data Type:\", arr.dtype)"
      ],
      "metadata": {
        "colab": {
          "base_uri": "https://localhost:8080/"
        },
        "id": "I08lIlbz82rX",
        "outputId": "d5d3a4fe-c9ce-4224-f8ce-838cfb286dda"
      },
      "execution_count": 32,
      "outputs": [
        {
          "output_type": "stream",
          "name": "stdout",
          "text": [
            "Data Type: int64\n"
          ]
        }
      ]
    },
    {
      "cell_type": "markdown",
      "source": [
        "Reshape Practice"
      ],
      "metadata": {
        "id": "DC2voqN585rD"
      }
    },
    {
      "cell_type": "code",
      "source": [
        "arr = np.arange(1, 13).reshape(3, 4)"
      ],
      "metadata": {
        "id": "IwTgZCZy86Wu"
      },
      "execution_count": 33,
      "outputs": []
    },
    {
      "cell_type": "code",
      "source": [
        "print(\"3x4 Array:\\n\", arr)"
      ],
      "metadata": {
        "colab": {
          "base_uri": "https://localhost:8080/"
        },
        "id": "373BzFYu8-CZ",
        "outputId": "e709bbed-a1ac-4181-9415-3f31436e611a"
      },
      "execution_count": 34,
      "outputs": [
        {
          "output_type": "stream",
          "name": "stdout",
          "text": [
            "3x4 Array:\n",
            " [[ 1  2  3  4]\n",
            " [ 5  6  7  8]\n",
            " [ 9 10 11 12]]\n"
          ]
        }
      ]
    },
    {
      "cell_type": "code",
      "source": [
        "print(\"2nd Row:\", arr[1])"
      ],
      "metadata": {
        "colab": {
          "base_uri": "https://localhost:8080/"
        },
        "id": "nX4d8ejo9APl",
        "outputId": "481b25df-3040-4b18-f1d1-65fbe38b9c50"
      },
      "execution_count": 35,
      "outputs": [
        {
          "output_type": "stream",
          "name": "stdout",
          "text": [
            "2nd Row: [5 6 7 8]\n"
          ]
        }
      ]
    },
    {
      "cell_type": "code",
      "source": [
        "print(\"Element at row 3, column 2:\", arr[2, 1])"
      ],
      "metadata": {
        "colab": {
          "base_uri": "https://localhost:8080/"
        },
        "id": "Eny8XydN9DTz",
        "outputId": "03f0266e-99b5-4422-95a5-d25300d52d69"
      },
      "execution_count": 36,
      "outputs": [
        {
          "output_type": "stream",
          "name": "stdout",
          "text": [
            "Element at row 3, column 2: 10\n"
          ]
        }
      ]
    },
    {
      "cell_type": "markdown",
      "source": [
        "Operations"
      ],
      "metadata": {
        "id": "kjp6jYhM9Fq0"
      }
    },
    {
      "cell_type": "code",
      "source": [
        "a = np.array([1, 2, 3])\n",
        "b = np.array([4, 5, 6])"
      ],
      "metadata": {
        "id": "I5-h82fg9Hmu"
      },
      "execution_count": 37,
      "outputs": []
    },
    {
      "cell_type": "code",
      "source": [
        "print(\"Addition:\", a + b)"
      ],
      "metadata": {
        "colab": {
          "base_uri": "https://localhost:8080/"
        },
        "id": "MvfgJW_T9Lh0",
        "outputId": "e0de02a6-e244-4ff0-c342-f39973e87943"
      },
      "execution_count": 38,
      "outputs": [
        {
          "output_type": "stream",
          "name": "stdout",
          "text": [
            "Addition: [5 7 9]\n"
          ]
        }
      ]
    },
    {
      "cell_type": "code",
      "source": [
        "print(\"Multiplication:\", a * b)"
      ],
      "metadata": {
        "colab": {
          "base_uri": "https://localhost:8080/"
        },
        "id": "XHf7IjIx9Ogp",
        "outputId": "dcb2e04d-4a2f-4d28-d28e-6301d1346d46"
      },
      "execution_count": 39,
      "outputs": [
        {
          "output_type": "stream",
          "name": "stdout",
          "text": [
            "Multiplication: [ 4 10 18]\n"
          ]
        }
      ]
    },
    {
      "cell_type": "code",
      "source": [
        "print(\"Mean of a:\", a.mean())"
      ],
      "metadata": {
        "colab": {
          "base_uri": "https://localhost:8080/"
        },
        "id": "roRbvh9b9QFI",
        "outputId": "cd5494d2-b712-490e-8b44-a88ce6830e19"
      },
      "execution_count": 40,
      "outputs": [
        {
          "output_type": "stream",
          "name": "stdout",
          "text": [
            "Mean of a: 2.0\n"
          ]
        }
      ]
    },
    {
      "cell_type": "code",
      "source": [
        "print(\"Mean of b:\", b.mean())"
      ],
      "metadata": {
        "colab": {
          "base_uri": "https://localhost:8080/"
        },
        "id": "MOSGWwHm9RyS",
        "outputId": "f1d0d672-f242-4234-f0ad-5b33b89aae9d"
      },
      "execution_count": 41,
      "outputs": [
        {
          "output_type": "stream",
          "name": "stdout",
          "text": [
            "Mean of b: 5.0\n"
          ]
        }
      ]
    },
    {
      "cell_type": "markdown",
      "source": [
        "Boolean Filtering"
      ],
      "metadata": {
        "id": "0h1jWF9g9UzQ"
      }
    },
    {
      "cell_type": "code",
      "source": [
        "arr = np.arange(1, 16)\n",
        "even_nums = arr[arr % 2 == 0]\n",
        "print(\"Even numbers:\", even_nums)"
      ],
      "metadata": {
        "colab": {
          "base_uri": "https://localhost:8080/"
        },
        "id": "0WM-3uMz9WrW",
        "outputId": "b892c678-1cfb-47dd-f3cc-c4eb0dac5f0f"
      },
      "execution_count": 42,
      "outputs": [
        {
          "output_type": "stream",
          "name": "stdout",
          "text": [
            "Even numbers: [ 2  4  6  8 10 12 14]\n"
          ]
        }
      ]
    },
    {
      "cell_type": "markdown",
      "source": [
        "Random Array"
      ],
      "metadata": {
        "id": "2i04PGCo9aBa"
      }
    },
    {
      "cell_type": "code",
      "source": [
        "rand_arr = np.random.randint(1, 21, (3, 3))\n",
        "print(\"Random 3x3 Matrix:\\n\", rand_arr)"
      ],
      "metadata": {
        "colab": {
          "base_uri": "https://localhost:8080/"
        },
        "id": "NJTug6o59ZQf",
        "outputId": "2e1bb3a7-f984-4434-bf73-ca52e307d505"
      },
      "execution_count": 43,
      "outputs": [
        {
          "output_type": "stream",
          "name": "stdout",
          "text": [
            "Random 3x3 Matrix:\n",
            " [[ 2 13 13]\n",
            " [ 8  4  5]\n",
            " [ 6  2  3]]\n"
          ]
        }
      ]
    },
    {
      "cell_type": "code",
      "source": [
        "print(\"Max:\", rand_arr.max())"
      ],
      "metadata": {
        "colab": {
          "base_uri": "https://localhost:8080/"
        },
        "id": "vnSoC9Y19eMY",
        "outputId": "31b90df6-b032-4e0d-8867-00e8375cab60"
      },
      "execution_count": 44,
      "outputs": [
        {
          "output_type": "stream",
          "name": "stdout",
          "text": [
            "Max: 13\n"
          ]
        }
      ]
    },
    {
      "cell_type": "code",
      "source": [
        "print(\"Min:\", rand_arr.min())"
      ],
      "metadata": {
        "colab": {
          "base_uri": "https://localhost:8080/"
        },
        "id": "7Xn79DG19gIi",
        "outputId": "6b75d2c9-4c2b-4815-8896-94f545221d39"
      },
      "execution_count": 45,
      "outputs": [
        {
          "output_type": "stream",
          "name": "stdout",
          "text": [
            "Min: 2\n"
          ]
        }
      ]
    },
    {
      "cell_type": "code",
      "source": [
        "print(\"Sum:\", rand_arr.sum())"
      ],
      "metadata": {
        "colab": {
          "base_uri": "https://localhost:8080/"
        },
        "id": "sCkCHIk19hzF",
        "outputId": "11751bfb-b7c0-496b-f9c2-82d5a2275fad"
      },
      "execution_count": 46,
      "outputs": [
        {
          "output_type": "stream",
          "name": "stdout",
          "text": [
            "Sum: 56\n"
          ]
        }
      ]
    },
    {
      "cell_type": "markdown",
      "source": [
        "Slicing Challenge"
      ],
      "metadata": {
        "id": "OORZVgDs9nZq"
      }
    },
    {
      "cell_type": "code",
      "source": [
        "arr = np.arange(10, 110, 10)\n",
        "print(\"Array:\", arr)"
      ],
      "metadata": {
        "colab": {
          "base_uri": "https://localhost:8080/"
        },
        "id": "KAMfEqJX9oFb",
        "outputId": "9b475731-7db3-4051-83cc-91997ec36c4e"
      },
      "execution_count": 47,
      "outputs": [
        {
          "output_type": "stream",
          "name": "stdout",
          "text": [
            "Array: [ 10  20  30  40  50  60  70  80  90 100]\n"
          ]
        }
      ]
    },
    {
      "cell_type": "code",
      "source": [
        "print(\"Every 2nd element:\", arr[::2])"
      ],
      "metadata": {
        "colab": {
          "base_uri": "https://localhost:8080/"
        },
        "id": "Ty_hdu2g9rcI",
        "outputId": "6f5b474a-e531-4646-be16-ba699d07b262"
      },
      "execution_count": 48,
      "outputs": [
        {
          "output_type": "stream",
          "name": "stdout",
          "text": [
            "Every 2nd element: [10 30 50 70 90]\n"
          ]
        }
      ]
    },
    {
      "cell_type": "code",
      "source": [
        "print(\"Last 3 elements:\", arr[-3:])"
      ],
      "metadata": {
        "colab": {
          "base_uri": "https://localhost:8080/"
        },
        "id": "TXTVwxCm9tfN",
        "outputId": "93e989f0-e937-44e7-b449-08252c375f2d"
      },
      "execution_count": 49,
      "outputs": [
        {
          "output_type": "stream",
          "name": "stdout",
          "text": [
            "Last 3 elements: [ 80  90 100]\n"
          ]
        }
      ]
    },
    {
      "cell_type": "code",
      "source": [
        "print(\"Reverse order:\", arr[::-1])"
      ],
      "metadata": {
        "colab": {
          "base_uri": "https://localhost:8080/"
        },
        "id": "p1qlpEw89vla",
        "outputId": "5ba246e0-5f59-4a41-ef47-0318d85bfc32"
      },
      "execution_count": 50,
      "outputs": [
        {
          "metadata": {
            "tags": null
          },
          "name": "stdout",
          "output_type": "stream",
          "text": [
            "Reverse order: [100  90  80  70  60  50  40  30  20  10]\n"
          ]
        }
      ]
    },
    {
      "cell_type": "markdown",
      "source": [
        "Matrix Math"
      ],
      "metadata": {
        "id": "GEwdg1XE99vj"
      }
    },
    {
      "cell_type": "code",
      "source": [
        "A = np.array([[2, 3],\n",
        "              [4, 5]])\n",
        "B = np.array([[1, 0],\n",
        "              [7, 2]])\n",
        "\n",
        "print(\"Matrix A:\\n\", A)\n",
        "print(\"Matrix B:\\n\", B)"
      ],
      "metadata": {
        "colab": {
          "base_uri": "https://localhost:8080/"
        },
        "id": "LzKbeOvc-ApM",
        "outputId": "cdfb3f18-012b-4865-85ed-f2ece881022f"
      },
      "execution_count": 51,
      "outputs": [
        {
          "output_type": "stream",
          "name": "stdout",
          "text": [
            "Matrix A:\n",
            " [[2 3]\n",
            " [4 5]]\n",
            "Matrix B:\n",
            " [[1 0]\n",
            " [7 2]]\n"
          ]
        }
      ]
    },
    {
      "cell_type": "code",
      "source": [
        "print(\"Addition:\\n\", A + B)"
      ],
      "metadata": {
        "colab": {
          "base_uri": "https://localhost:8080/"
        },
        "id": "KmxXv_DB-ERl",
        "outputId": "9c61f516-6d15-4716-88df-6193fd067039"
      },
      "execution_count": 52,
      "outputs": [
        {
          "output_type": "stream",
          "name": "stdout",
          "text": [
            "Addition:\n",
            " [[ 3  3]\n",
            " [11  7]]\n"
          ]
        }
      ]
    },
    {
      "cell_type": "code",
      "source": [
        "print(\"Dot Product:\\n\", np.dot(A, B))"
      ],
      "metadata": {
        "colab": {
          "base_uri": "https://localhost:8080/"
        },
        "id": "Qkum3dCT-F6X",
        "outputId": "b04bc402-a4e5-4de9-fbd5-43e3baeb9955"
      },
      "execution_count": 53,
      "outputs": [
        {
          "output_type": "stream",
          "name": "stdout",
          "text": [
            "Dot Product:\n",
            " [[23  6]\n",
            " [39 10]]\n"
          ]
        }
      ]
    },
    {
      "cell_type": "code",
      "source": [
        "print(\"Transpose of Dot Product:\\n\", np.dot(A, B).T)"
      ],
      "metadata": {
        "colab": {
          "base_uri": "https://localhost:8080/"
        },
        "id": "_KktZEz3-HeF",
        "outputId": "7753ebd2-3f89-4cf9-cf08-d3fb53bf50d9"
      },
      "execution_count": 54,
      "outputs": [
        {
          "output_type": "stream",
          "name": "stdout",
          "text": [
            "Transpose of Dot Product:\n",
            " [[23 39]\n",
            " [ 6 10]]\n"
          ]
        }
      ]
    },
    {
      "cell_type": "markdown",
      "source": [
        "Statistical Ops"
      ],
      "metadata": {
        "id": "NTqTr-ji-KKf"
      }
    },
    {
      "cell_type": "code",
      "source": [
        "arr = np.random.randint(1, 51, 10)\n",
        "print(\"Array:\", arr)"
      ],
      "metadata": {
        "colab": {
          "base_uri": "https://localhost:8080/"
        },
        "id": "ZOiYnG1J-MQl",
        "outputId": "845ba149-139c-47b7-a6c3-84b58e716eb5"
      },
      "execution_count": 55,
      "outputs": [
        {
          "output_type": "stream",
          "name": "stdout",
          "text": [
            "Array: [45 21 35 30 36 39 27 31 12  2]\n"
          ]
        }
      ]
    },
    {
      "cell_type": "code",
      "source": [
        "print(\"Mean:\", np.mean(arr))"
      ],
      "metadata": {
        "colab": {
          "base_uri": "https://localhost:8080/"
        },
        "id": "nBsIjZJC-OLG",
        "outputId": "c31ae63d-ba4b-42bb-d83c-d65417d342ca"
      },
      "execution_count": 56,
      "outputs": [
        {
          "output_type": "stream",
          "name": "stdout",
          "text": [
            "Mean: 27.8\n"
          ]
        }
      ]
    },
    {
      "cell_type": "code",
      "source": [
        "print(\"Median:\", np.median(arr))"
      ],
      "metadata": {
        "colab": {
          "base_uri": "https://localhost:8080/"
        },
        "id": "knG3Ld-4-QI8",
        "outputId": "c3e41919-0f94-4811-a9c2-850fd6a3cf07"
      },
      "execution_count": 57,
      "outputs": [
        {
          "output_type": "stream",
          "name": "stdout",
          "text": [
            "Median: 30.5\n"
          ]
        }
      ]
    },
    {
      "cell_type": "code",
      "source": [
        "print(\"Standard Deviation:\", np.std(arr))"
      ],
      "metadata": {
        "colab": {
          "base_uri": "https://localhost:8080/"
        },
        "id": "hEkOGaKW-T0Y",
        "outputId": "79847913-4b85-401a-c814-7a602e063410"
      },
      "execution_count": 58,
      "outputs": [
        {
          "output_type": "stream",
          "name": "stdout",
          "text": [
            "Standard Deviation: 12.319090875547595\n"
          ]
        }
      ]
    },
    {
      "cell_type": "markdown",
      "source": [
        "Unique & Frequency"
      ],
      "metadata": {
        "id": "OKQgk1mI-X8-"
      }
    },
    {
      "cell_type": "code",
      "source": [
        "arr = np.array([1, 2, 2, 3, 4, 4, 4, 5, 5, 6])\n",
        "unique, counts = np.unique(arr, return_counts=True)"
      ],
      "metadata": {
        "id": "gVJoTPXl-a41"
      },
      "execution_count": 59,
      "outputs": []
    },
    {
      "cell_type": "code",
      "source": [
        "print(\"Unique Elements:\", unique)"
      ],
      "metadata": {
        "colab": {
          "base_uri": "https://localhost:8080/"
        },
        "id": "kEry5lKw-cw5",
        "outputId": "ffccc34a-7270-416f-ff45-86982b7e761c"
      },
      "execution_count": 60,
      "outputs": [
        {
          "output_type": "stream",
          "name": "stdout",
          "text": [
            "Unique Elements: [1 2 3 4 5 6]\n"
          ]
        }
      ]
    },
    {
      "cell_type": "code",
      "source": [
        "print(\"Frequency Count:\", counts)"
      ],
      "metadata": {
        "colab": {
          "base_uri": "https://localhost:8080/"
        },
        "id": "5SP35IOI-erT",
        "outputId": "41af8137-f7fc-4e19-f2f8-63c7004d5fa2"
      },
      "execution_count": 61,
      "outputs": [
        {
          "output_type": "stream",
          "name": "stdout",
          "text": [
            "Frequency Count: [1 2 1 3 2 1]\n"
          ]
        }
      ]
    },
    {
      "cell_type": "markdown",
      "source": [
        "Advanced Mini Task"
      ],
      "metadata": {
        "id": "3IPnNbrJ-h3E"
      }
    },
    {
      "cell_type": "code",
      "source": [
        "arr = np.random.randint(0, 10, (4, 4))\n",
        "print(\"Original Array:\\n\", arr)"
      ],
      "metadata": {
        "colab": {
          "base_uri": "https://localhost:8080/"
        },
        "id": "sb9kfsdN-jhH",
        "outputId": "934a8ea8-abc6-440b-da33-9df57df7e5e3"
      },
      "execution_count": 62,
      "outputs": [
        {
          "output_type": "stream",
          "name": "stdout",
          "text": [
            "Original Array:\n",
            " [[5 7 4 4]\n",
            " [8 8 4 2]\n",
            " [6 0 0 3]\n",
            " [2 9 6 5]]\n"
          ]
        }
      ]
    },
    {
      "cell_type": "code",
      "source": [
        "# Replace evens with 0, odds with 1\n",
        "binary = np.where(arr % 2 == 0, 0, 1)\n",
        "print(\"Binary Array:\\n\", binary)"
      ],
      "metadata": {
        "colab": {
          "base_uri": "https://localhost:8080/"
        },
        "id": "wjnXAYQW-lws",
        "outputId": "0a3404b6-a471-41a1-89bf-e2142a21516d"
      },
      "execution_count": 63,
      "outputs": [
        {
          "output_type": "stream",
          "name": "stdout",
          "text": [
            "Binary Array:\n",
            " [[1 1 0 0]\n",
            " [0 0 0 0]\n",
            " [0 0 0 1]\n",
            " [0 1 0 1]]\n"
          ]
        }
      ]
    }
  ]
}