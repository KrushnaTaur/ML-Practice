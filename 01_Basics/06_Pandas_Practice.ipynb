{
  "nbformat": 4,
  "nbformat_minor": 0,
  "metadata": {
    "colab": {
      "provenance": [],
      "collapsed_sections": [
        "xXsibS8slr4i",
        "hsHDVUd4mauP",
        "yz-twPBqm3Oi",
        "tFJ1FQlTneER",
        "VvM_vqTFoGQM",
        "yuO_HZgCooFo",
        "D39HAKiLpEhf",
        "Ii2p_Vdqt3ZV"
      ],
      "authorship_tag": "ABX9TyOk4KoGHWVueOvym+cu66j1",
      "include_colab_link": true
    },
    "kernelspec": {
      "name": "python3",
      "display_name": "Python 3"
    },
    "language_info": {
      "name": "python"
    }
  },
  "cells": [
    {
      "cell_type": "markdown",
      "metadata": {
        "id": "view-in-github",
        "colab_type": "text"
      },
      "source": [
        "<a href=\"https://colab.research.google.com/github/KrushnaTaur/ML-Practice/blob/main/01_Basics/06_Pandas_Practice.ipynb\" target=\"_parent\"><img src=\"https://colab.research.google.com/assets/colab-badge.svg\" alt=\"Open In Colab\"/></a>"
      ]
    },
    {
      "cell_type": "code",
      "execution_count": 1,
      "metadata": {
        "id": "YvTTBW_zlZ7d"
      },
      "outputs": [],
      "source": [
        "import pandas as pd"
      ]
    },
    {
      "cell_type": "markdown",
      "source": [
        "#1. Creating Series and DataFrames\n",
        "\n",
        "Pandas Series = 1D labeled array, DataFrame = 2D labeled table."
      ],
      "metadata": {
        "id": "xXsibS8slr4i"
      }
    },
    {
      "cell_type": "code",
      "source": [
        "# Create a Series\n",
        "data = [10, 20, 30, 40, 50]\n",
        "s = pd.Series(data, index=['a','b','c','d','e'])\n",
        "print(\"Series:\\n\", s)"
      ],
      "metadata": {
        "colab": {
          "base_uri": "https://localhost:8080/"
        },
        "id": "eG3jPZZbl4O6",
        "outputId": "0e710c8e-b0f8-4d71-e272-1efccb2fa6ed"
      },
      "execution_count": 4,
      "outputs": [
        {
          "output_type": "stream",
          "name": "stdout",
          "text": [
            "Series:\n",
            " a    10\n",
            "b    20\n",
            "c    30\n",
            "d    40\n",
            "e    50\n",
            "dtype: int64\n"
          ]
        }
      ]
    },
    {
      "cell_type": "code",
      "source": [
        "# Create a DataFrame\n",
        "data = {'Name': ['Krish', 'Rohit', 'Ravi'],\n",
        "        'Age': [19, 20, 21],\n",
        "        'Marks': [85, 90, 88]}\n",
        "df = pd.DataFrame(data)\n",
        "print(\"\\nDataFrame:\\n\", df)"
      ],
      "metadata": {
        "colab": {
          "base_uri": "https://localhost:8080/"
        },
        "id": "cqa1-blEmGqp",
        "outputId": "31a66c91-398a-4cea-8ed8-3e41f15d420d"
      },
      "execution_count": 6,
      "outputs": [
        {
          "output_type": "stream",
          "name": "stdout",
          "text": [
            "\n",
            "DataFrame:\n",
            "     Name  Age  Marks\n",
            "0  Krish   19     85\n",
            "1  Rohit   20     90\n",
            "2   Ravi   21     88\n"
          ]
        }
      ]
    },
    {
      "cell_type": "code",
      "source": [
        "# Create a Series of city populations\n",
        "city_data = {'Mumbai': 20411000,\n",
        "             'Delhi': 16787941,\n",
        "             'Bengaluru': 8443675,\n",
        "             'Chennai': 7088000,\n",
        "             'Pune': 3124458}\n",
        "\n",
        "cities = pd.Series(city_data)\n",
        "print(\"City Population Series:\\n\")\n",
        "print(cities)"
      ],
      "metadata": {
        "colab": {
          "base_uri": "https://localhost:8080/"
        },
        "id": "xjRpI98vqSKX",
        "outputId": "a5a911cf-78e4-4259-d903-c7f5e02e9f1c"
      },
      "execution_count": 30,
      "outputs": [
        {
          "output_type": "stream",
          "name": "stdout",
          "text": [
            "City Population Series:\n",
            "\n",
            "Mumbai       20411000\n",
            "Delhi        16787941\n",
            "Bengaluru     8443675\n",
            "Chennai       7088000\n",
            "Pune          3124458\n",
            "dtype: int64\n"
          ]
        }
      ]
    },
    {
      "cell_type": "markdown",
      "source": [
        "# 2. Reading CSV Files"
      ],
      "metadata": {
        "id": "hsHDVUd4mauP"
      }
    },
    {
      "cell_type": "code",
      "source": [
        "# Sample CSV creation (for practice)\n",
        "data = {'Name':['Krish','Rohit','Ravi'],\n",
        "        'Branch':['AI&DS','CSE','IT'],\n",
        "        'Marks':[88,92,85]}\n",
        "sample = pd.DataFrame(data)\n",
        "sample.to_csv('students.csv', index=False)"
      ],
      "metadata": {
        "id": "Fl2P91ZUmWJj"
      },
      "execution_count": 7,
      "outputs": []
    },
    {
      "cell_type": "code",
      "source": [
        "# Read CSV file\n",
        "df = pd.read_csv('students.csv')\n",
        "print(\"CSV Data:\\n\", df)"
      ],
      "metadata": {
        "colab": {
          "base_uri": "https://localhost:8080/"
        },
        "id": "AYunSnCRmq2D",
        "outputId": "bad426ff-5ce4-4d4c-bea1-fed9ba1a8d3b"
      },
      "execution_count": 8,
      "outputs": [
        {
          "output_type": "stream",
          "name": "stdout",
          "text": [
            "CSV Data:\n",
            "     Name Branch  Marks\n",
            "0  Krish  AI&DS     88\n",
            "1  Rohit    CSE     92\n",
            "2   Ravi     IT     85\n"
          ]
        }
      ]
    },
    {
      "cell_type": "code",
      "source": [
        "# Create a small product dataset\n",
        "products = {\n",
        "    'Product': ['Laptop', 'Mouse', 'Keyboard', 'Monitor', 'Headphones'],\n",
        "    'Price': [60000, 800, 1500, 12000, 2500],\n",
        "    'Quantity': [5, 20, 15, 7, 10]\n",
        "}\n",
        "print(products)"
      ],
      "metadata": {
        "colab": {
          "base_uri": "https://localhost:8080/"
        },
        "id": "O5eH58vPqxfU",
        "outputId": "66415893-23ac-4f65-99a8-7d7dbbdc5f12"
      },
      "execution_count": 32,
      "outputs": [
        {
          "output_type": "stream",
          "name": "stdout",
          "text": [
            "{'Product': ['Laptop', 'Mouse', 'Keyboard', 'Monitor', 'Headphones'], 'Price': [60000, 800, 1500, 12000, 2500], 'Quantity': [5, 20, 15, 7, 10]}\n"
          ]
        }
      ]
    },
    {
      "cell_type": "code",
      "source": [
        "# Convert to DataFrame and save as CSV\n",
        "df_products = pd.DataFrame(products)\n",
        "df_products.to_csv('products.csv', index=False)"
      ],
      "metadata": {
        "id": "81UHlB7BrAI3"
      },
      "execution_count": 33,
      "outputs": []
    },
    {
      "cell_type": "code",
      "source": [
        "# Read it back\n",
        "df_read = pd.read_csv('products.csv')\n",
        "print(\"Products Data (from CSV):\\n\")\n",
        "print(df_read)"
      ],
      "metadata": {
        "colab": {
          "base_uri": "https://localhost:8080/"
        },
        "id": "d0j8tnzHrDNy",
        "outputId": "1b5267de-5a4d-4692-a463-4f23bc4f6393"
      },
      "execution_count": 34,
      "outputs": [
        {
          "output_type": "stream",
          "name": "stdout",
          "text": [
            "Products Data (from CSV):\n",
            "\n",
            "      Product  Price  Quantity\n",
            "0      Laptop  60000         5\n",
            "1       Mouse    800        20\n",
            "2    Keyboard   1500        15\n",
            "3     Monitor  12000         7\n",
            "4  Headphones   2500        10\n"
          ]
        }
      ]
    },
    {
      "cell_type": "markdown",
      "source": [
        "# 3. Selecting Rows & Columns (loc, iloc)\n",
        "\n",
        ".loc → label-based access\n",
        "\n",
        ".iloc → index-based access"
      ],
      "metadata": {
        "id": "yz-twPBqm3Oi"
      }
    },
    {
      "cell_type": "code",
      "source": [
        "df = pd.DataFrame({'Name':['A','B','C','D'],\n",
        "                   'Score':[80,90,85,88],\n",
        "                   'Age':[19,20,18,22]})\n",
        "\n",
        "print(\"Select 'Name' column:\\n\", df['Name'])\n",
        "print(\"\\nFirst two rows using iloc:\\n\", df.iloc[:2])\n",
        "print(\"\\nRows with labels 1–3 using loc:\\n\", df.loc[1:3])\n",
        "print(\"\\nSpecific cell (row 2, column 'Score'):\", df.loc[1, 'Score'])"
      ],
      "metadata": {
        "colab": {
          "base_uri": "https://localhost:8080/"
        },
        "id": "CI0HXfEIm9DL",
        "outputId": "b45e5b51-9a1f-40d9-bb7a-abe6e771434d"
      },
      "execution_count": 36,
      "outputs": [
        {
          "output_type": "stream",
          "name": "stdout",
          "text": [
            "Select 'Name' column:\n",
            " 0    A\n",
            "1    B\n",
            "2    C\n",
            "3    D\n",
            "Name: Name, dtype: object\n",
            "\n",
            "First two rows using iloc:\n",
            "   Name  Score  Age\n",
            "0    A     80   19\n",
            "1    B     90   20\n",
            "\n",
            "Rows with labels 1–3 using loc:\n",
            "   Name  Score  Age\n",
            "1    B     90   20\n",
            "2    C     85   18\n",
            "3    D     88   22\n",
            "\n",
            "Specific cell (row 2, column 'Score'): 90\n"
          ]
        }
      ]
    },
    {
      "cell_type": "code",
      "source": [
        "# Display last two rows using iloc\n",
        "print(\"\\nLast two rows of products dataset:\\n\")\n",
        "print(df_read.iloc[-2:])"
      ],
      "metadata": {
        "colab": {
          "base_uri": "https://localhost:8080/"
        },
        "id": "twIfgqLmrd67",
        "outputId": "8fab0b19-61d2-4937-b1cd-6b56b9175245"
      },
      "execution_count": 37,
      "outputs": [
        {
          "output_type": "stream",
          "name": "stdout",
          "text": [
            "\n",
            "Last two rows of products dataset:\n",
            "\n",
            "      Product  Price  Quantity\n",
            "3     Monitor  12000         7\n",
            "4  Headphones   2500        10\n"
          ]
        }
      ]
    },
    {
      "cell_type": "markdown",
      "source": [
        "# 4. Filtering, Sorting, and Handling Missing Data"
      ],
      "metadata": {
        "id": "tFJ1FQlTneER"
      }
    },
    {
      "cell_type": "code",
      "source": [
        "df = pd.DataFrame({'Name':['A','B','C','D','E'],\n",
        "                   'Score':[80,90,None,88,75],\n",
        "                   'Age':[19,20,18,22,None]})\n",
        "\n",
        "print(\"Original:\\n\", df)"
      ],
      "metadata": {
        "colab": {
          "base_uri": "https://localhost:8080/"
        },
        "id": "enRPh_BdnFST",
        "outputId": "d7aee06d-8e66-4d49-f90e-9ab25b04a37b"
      },
      "execution_count": 16,
      "outputs": [
        {
          "output_type": "stream",
          "name": "stdout",
          "text": [
            "Original:\n",
            "   Name  Score   Age\n",
            "0    A   80.0  19.0\n",
            "1    B   90.0  20.0\n",
            "2    C    NaN  18.0\n",
            "3    D   88.0  22.0\n",
            "4    E   75.0   NaN\n"
          ]
        }
      ]
    },
    {
      "cell_type": "code",
      "source": [
        "# Filter\n",
        "print(\"\\nStudents with Score > 80:\\n\", df[df['Score'] > 80])"
      ],
      "metadata": {
        "colab": {
          "base_uri": "https://localhost:8080/"
        },
        "id": "YPxEWEI9npjt",
        "outputId": "2733ea37-d894-47cf-b5ea-a34fc942ad11"
      },
      "execution_count": 11,
      "outputs": [
        {
          "output_type": "stream",
          "name": "stdout",
          "text": [
            "\n",
            "Students with Score > 80:\n",
            "   Name  Score   Age\n",
            "1    B   90.0  20.0\n",
            "3    D   88.0  22.0\n"
          ]
        }
      ]
    },
    {
      "cell_type": "code",
      "source": [
        "# Sort\n",
        "print(\"\\nSorted by Score:\\n\", df.sort_values(by='Score', ascending=False))"
      ],
      "metadata": {
        "colab": {
          "base_uri": "https://localhost:8080/"
        },
        "id": "yFu0MVJOnuDc",
        "outputId": "c36f598b-4c79-440a-b223-88c68804a2b5"
      },
      "execution_count": 12,
      "outputs": [
        {
          "output_type": "stream",
          "name": "stdout",
          "text": [
            "\n",
            "Sorted by Score:\n",
            "   Name  Score   Age\n",
            "1    B   90.0  20.0\n",
            "3    D   88.0  22.0\n",
            "0    A   80.0  19.0\n",
            "4    E   75.0   NaN\n",
            "2    C    NaN  18.0\n"
          ]
        }
      ]
    },
    {
      "cell_type": "code",
      "source": [
        "# Handle Missing Values\n",
        "print(\"\\nFill missing with mean:\\n\", df.fillna(df.mean(numeric_only=True)))"
      ],
      "metadata": {
        "colab": {
          "base_uri": "https://localhost:8080/"
        },
        "id": "epr5EcprnxVY",
        "outputId": "ca0b2b5f-d9cb-457f-e4b2-95e17219a035"
      },
      "execution_count": 13,
      "outputs": [
        {
          "output_type": "stream",
          "name": "stdout",
          "text": [
            "\n",
            "Fill missing with mean:\n",
            "   Name  Score    Age\n",
            "0    A  80.00  19.00\n",
            "1    B  90.00  20.00\n",
            "2    C  83.25  18.00\n",
            "3    D  88.00  22.00\n",
            "4    E  75.00  19.75\n"
          ]
        }
      ]
    },
    {
      "cell_type": "code",
      "source": [
        "print(\"\\nDrop rows with any NaN:\\n\", df.dropna())"
      ],
      "metadata": {
        "colab": {
          "base_uri": "https://localhost:8080/"
        },
        "id": "4gsxG56sn_Ih",
        "outputId": "bf6e9eb1-6da6-41f6-d15d-492dba16a941"
      },
      "execution_count": 14,
      "outputs": [
        {
          "output_type": "stream",
          "name": "stdout",
          "text": [
            "\n",
            "Drop rows with any NaN:\n",
            "   Name  Score   Age\n",
            "0    A   80.0  19.0\n",
            "1    B   90.0  20.0\n",
            "3    D   88.0  22.0\n"
          ]
        }
      ]
    },
    {
      "cell_type": "code",
      "source": [
        "data = {'Name':['A','B','C','D','E'],\n",
        "        'Score':[80,90,None,88,75],\n",
        "        'Age':[19,20,18,22,None]}\n",
        "\n",
        "df = pd.DataFrame(data)\n",
        "print(\"Original DataFrame:\\n\", df)"
      ],
      "metadata": {
        "colab": {
          "base_uri": "https://localhost:8080/"
        },
        "id": "8sFx864Hr95m",
        "outputId": "cdbbd1e9-fffd-4d51-c5d0-f32be6eb042a"
      },
      "execution_count": 38,
      "outputs": [
        {
          "output_type": "stream",
          "name": "stdout",
          "text": [
            "Original DataFrame:\n",
            "   Name  Score   Age\n",
            "0    A   80.0  19.0\n",
            "1    B   90.0  20.0\n",
            "2    C    NaN  18.0\n",
            "3    D   88.0  22.0\n",
            "4    E   75.0   NaN\n"
          ]
        }
      ]
    },
    {
      "cell_type": "code",
      "source": [
        "# Replace missing Age values with average\n",
        "avg_age = df['Age'].mean()\n",
        "df['Age'].fillna(avg_age, inplace=True)"
      ],
      "metadata": {
        "colab": {
          "base_uri": "https://localhost:8080/"
        },
        "id": "JM-9nv-QsDJS",
        "outputId": "261c4bf2-ffef-48ad-e2b3-a98cd6aab5ae"
      },
      "execution_count": 39,
      "outputs": [
        {
          "output_type": "stream",
          "name": "stderr",
          "text": [
            "/tmp/ipython-input-375970630.py:3: FutureWarning: A value is trying to be set on a copy of a DataFrame or Series through chained assignment using an inplace method.\n",
            "The behavior will change in pandas 3.0. This inplace method will never work because the intermediate object on which we are setting values always behaves as a copy.\n",
            "\n",
            "For example, when doing 'df[col].method(value, inplace=True)', try using 'df.method({col: value}, inplace=True)' or df[col] = df[col].method(value) instead, to perform the operation inplace on the original object.\n",
            "\n",
            "\n",
            "  df['Age'].fillna(avg_age, inplace=True)\n"
          ]
        }
      ]
    },
    {
      "cell_type": "code",
      "source": [
        "# Sort by Age\n",
        "df_sorted = df.sort_values(by='Age')\n",
        "print(\"\\nAfter filling missing Age and sorting:\\n\", df_sorted)"
      ],
      "metadata": {
        "colab": {
          "base_uri": "https://localhost:8080/"
        },
        "id": "thol_XyTsLYY",
        "outputId": "a7b73933-b39f-415e-8902-0db65b5165c5"
      },
      "execution_count": 40,
      "outputs": [
        {
          "output_type": "stream",
          "name": "stdout",
          "text": [
            "\n",
            "After filling missing Age and sorting:\n",
            "   Name  Score    Age\n",
            "2    C    NaN  18.00\n",
            "0    A   80.0  19.00\n",
            "4    E   75.0  19.75\n",
            "1    B   90.0  20.00\n",
            "3    D   88.0  22.00\n"
          ]
        }
      ]
    },
    {
      "cell_type": "markdown",
      "source": [
        "# 5. GroupBy and Aggregation"
      ],
      "metadata": {
        "id": "VvM_vqTFoGQM"
      }
    },
    {
      "cell_type": "code",
      "source": [
        "df = pd.DataFrame({'Branch':['AI','AI','CSE','CSE','IT'],\n",
        "                   'Marks':[85,90,88,92,80],\n",
        "                   'Year':[2,2,3,3,2]})\n",
        "\n",
        "print(\"Original:\\n\", df)"
      ],
      "metadata": {
        "colab": {
          "base_uri": "https://localhost:8080/"
        },
        "id": "fHi6e0rToI8G",
        "outputId": "befd86d2-51a6-4f8d-b339-1071e1f862fe"
      },
      "execution_count": 48,
      "outputs": [
        {
          "output_type": "stream",
          "name": "stdout",
          "text": [
            "Original:\n",
            "   Branch  Marks  Year\n",
            "0     AI     85     2\n",
            "1     AI     90     2\n",
            "2    CSE     88     3\n",
            "3    CSE     92     3\n",
            "4     IT     80     2\n"
          ]
        }
      ]
    },
    {
      "cell_type": "code",
      "source": [
        "grouped = df.groupby('Branch')['Marks'].mean()\n",
        "print(\"Average marks by Branch:\\n\", grouped)"
      ],
      "metadata": {
        "colab": {
          "base_uri": "https://localhost:8080/"
        },
        "id": "7u9GQ2CPoggo",
        "outputId": "cfff357b-8088-4d05-a6fd-528bd8864a6d"
      },
      "execution_count": 49,
      "outputs": [
        {
          "output_type": "stream",
          "name": "stdout",
          "text": [
            "Average marks by Branch:\n",
            " Branch\n",
            "AI     87.5\n",
            "CSE    90.0\n",
            "IT     80.0\n",
            "Name: Marks, dtype: float64\n"
          ]
        }
      ]
    },
    {
      "cell_type": "code",
      "source": [
        "print(\"\\nCount by Branch:\\n\", df.groupby('Branch')['Marks'].count())"
      ],
      "metadata": {
        "colab": {
          "base_uri": "https://localhost:8080/"
        },
        "id": "OmQLtFkYokms",
        "outputId": "9f64c834-52ae-410c-e1e2-1705a82f20da"
      },
      "execution_count": 50,
      "outputs": [
        {
          "output_type": "stream",
          "name": "stdout",
          "text": [
            "\n",
            "Count by Branch:\n",
            " Branch\n",
            "AI     2\n",
            "CSE    2\n",
            "IT     1\n",
            "Name: Marks, dtype: int64\n"
          ]
        }
      ]
    },
    {
      "cell_type": "code",
      "source": [
        "df_marks = pd.DataFrame({\n",
        "    'Branch':['AI','AI','CSE','CSE','IT'],\n",
        "    'Marks':[85,90,88,92,80],\n",
        "    'Year':[2,2,3,3,2]\n",
        "})\n",
        "print(\"Original:\\n\", df_marks)"
      ],
      "metadata": {
        "colab": {
          "base_uri": "https://localhost:8080/"
        },
        "id": "RxdXOvnrsevd",
        "outputId": "39618ef0-06be-47ee-efc2-4fcd84b260b5"
      },
      "execution_count": 51,
      "outputs": [
        {
          "output_type": "stream",
          "name": "stdout",
          "text": [
            "Original:\n",
            "   Branch  Marks  Year\n",
            "0     AI     85     2\n",
            "1     AI     90     2\n",
            "2    CSE     88     3\n",
            "3    CSE     92     3\n",
            "4     IT     80     2\n"
          ]
        }
      ]
    },
    {
      "cell_type": "code",
      "source": [
        "avg_marks_per_year = df_marks.groupby('Year')['Marks'].mean()\n",
        "print(\"Average Marks per Year:\\n\", avg_marks_per_year)"
      ],
      "metadata": {
        "colab": {
          "base_uri": "https://localhost:8080/"
        },
        "id": "ynTfPN4sshFf",
        "outputId": "7b8756ff-2249-47ce-e621-57a31c6ef1e3"
      },
      "execution_count": 53,
      "outputs": [
        {
          "output_type": "stream",
          "name": "stdout",
          "text": [
            "Average Marks per Year:\n",
            " Year\n",
            "2    85.0\n",
            "3    90.0\n",
            "Name: Marks, dtype: float64\n"
          ]
        }
      ]
    },
    {
      "cell_type": "markdown",
      "source": [
        "# 6. Merging & Joining DataFrames"
      ],
      "metadata": {
        "id": "yuO_HZgCooFo"
      }
    },
    {
      "cell_type": "code",
      "source": [
        "students = pd.DataFrame({'ID':[1,2,3],\n",
        "                         'Name':['Krish','Rohit','Mira']})\n",
        "\n",
        "marks = pd.DataFrame({'ID':[1,2,3],\n",
        "                      'Marks':[88,92,85]})\n",
        "\n",
        "print(students)\n",
        "print(\"\\n\", marks)"
      ],
      "metadata": {
        "colab": {
          "base_uri": "https://localhost:8080/"
        },
        "id": "YnrKJ1B7otXY",
        "outputId": "6d1f4268-729f-4a82-f53d-19202e98fd8b"
      },
      "execution_count": 20,
      "outputs": [
        {
          "output_type": "stream",
          "name": "stdout",
          "text": [
            "   ID   Name\n",
            "0   1  Krish\n",
            "1   2  Rohit\n",
            "2   3   Mira\n",
            "\n",
            "    ID  Marks\n",
            "0   1     88\n",
            "1   2     92\n",
            "2   3     85\n"
          ]
        }
      ]
    },
    {
      "cell_type": "code",
      "source": [
        "merged = pd.merge(students, marks, on='ID')\n",
        "print(\"Merged DataFrame:\\n\", merged)"
      ],
      "metadata": {
        "colab": {
          "base_uri": "https://localhost:8080/"
        },
        "id": "IWVQzZ7bo9Lb",
        "outputId": "9aca5828-5ed7-43b7-d7f9-ef29943ee42c"
      },
      "execution_count": 21,
      "outputs": [
        {
          "output_type": "stream",
          "name": "stdout",
          "text": [
            "Merged DataFrame:\n",
            "    ID   Name  Marks\n",
            "0   1  Krish     88\n",
            "1   2  Rohit     92\n",
            "2   3   Mira     85\n"
          ]
        }
      ]
    },
    {
      "cell_type": "code",
      "source": [
        "df_emp = pd.DataFrame({\n",
        "    'Emp_ID':[1,2,3,4],\n",
        "    'Name':['Krish','Rohit','Mira','Arjun']\n",
        "})\n",
        "\n",
        "df_salary = pd.DataFrame({\n",
        "    'Emp_ID':[1,2,3,4],\n",
        "    'Salary':[50000,55000,48000,60000]\n",
        "})"
      ],
      "metadata": {
        "id": "Oy-eMLOgtFO0"
      },
      "execution_count": 46,
      "outputs": []
    },
    {
      "cell_type": "code",
      "source": [
        "merged_df = pd.merge(df_emp, df_salary, on='Emp_ID')\n",
        "print(\"Employee with Salary:\\n\", merged_df)"
      ],
      "metadata": {
        "colab": {
          "base_uri": "https://localhost:8080/"
        },
        "id": "n0KC_rSptH8A",
        "outputId": "12bad6b6-1420-4eb7-c601-37fc93e609f7"
      },
      "execution_count": 47,
      "outputs": [
        {
          "output_type": "stream",
          "name": "stdout",
          "text": [
            "Employee with Salary:\n",
            "    Emp_ID   Name  Salary\n",
            "0       1  Krish   50000\n",
            "1       2  Rohit   55000\n",
            "2       3   Mira   48000\n",
            "3       4  Arjun   60000\n"
          ]
        }
      ]
    },
    {
      "cell_type": "markdown",
      "source": [
        "#7. Exporting Data to CSV"
      ],
      "metadata": {
        "id": "D39HAKiLpEhf"
      }
    },
    {
      "cell_type": "code",
      "source": [
        "df = pd.DataFrame({'Name':['Krish','Rohit'],\n",
        "                   'Marks':[85,92]})"
      ],
      "metadata": {
        "id": "gZcZ5WvepGqd"
      },
      "execution_count": 25,
      "outputs": []
    },
    {
      "cell_type": "code",
      "source": [
        "df.to_csv('output.csv', index=False)\n",
        "print(\"✅ Data exported successfully to output.csv\")"
      ],
      "metadata": {
        "colab": {
          "base_uri": "https://localhost:8080/"
        },
        "id": "BfRG0MVLpNJI",
        "outputId": "12b52716-c251-4df5-c91f-26f3c8281b9a"
      },
      "execution_count": 26,
      "outputs": [
        {
          "output_type": "stream",
          "name": "stdout",
          "text": [
            "✅ Data exported successfully to output.csv\n"
          ]
        }
      ]
    },
    {
      "cell_type": "code",
      "source": [
        "df = pd.read_csv('output.csv')\n",
        "print(\"CSV Data:\\n\", df)"
      ],
      "metadata": {
        "colab": {
          "base_uri": "https://localhost:8080/"
        },
        "id": "N4TB0E3PpU32",
        "outputId": "791a0951-cbbe-4b66-c8d6-f892bcf0b4be"
      },
      "execution_count": 28,
      "outputs": [
        {
          "output_type": "stream",
          "name": "stdout",
          "text": [
            "CSV Data:\n",
            "     Name  Marks\n",
            "0  Krish     85\n",
            "1  Rohit     92\n"
          ]
        }
      ]
    },
    {
      "cell_type": "code",
      "source": [
        "# Export the cleaned/sorted Age DataFrame from Task 4\n",
        "df_sorted.to_csv('clean_data.csv', index=False)\n",
        "print(\"✅ Cleaned data exported successfully to 'clean_data.csv'\")"
      ],
      "metadata": {
        "colab": {
          "base_uri": "https://localhost:8080/"
        },
        "id": "AIF0avQstW2M",
        "outputId": "0608805d-ce1c-4afe-f4f6-cbe4a4079ed2"
      },
      "execution_count": 54,
      "outputs": [
        {
          "output_type": "stream",
          "name": "stdout",
          "text": [
            "✅ Cleaned data exported successfully to 'clean_data.csv'\n"
          ]
        }
      ]
    },
    {
      "cell_type": "code",
      "source": [
        "df = pd.read_csv('clean_data.csv')\n",
        "print(\"Cleaned Data:\\n\", df)"
      ],
      "metadata": {
        "colab": {
          "base_uri": "https://localhost:8080/"
        },
        "id": "5_2ruoocteT0",
        "outputId": "90a7c632-e6a1-468a-ad2c-08050578df3a"
      },
      "execution_count": 55,
      "outputs": [
        {
          "output_type": "stream",
          "name": "stdout",
          "text": [
            "Cleaned Data:\n",
            "   Name  Score    Age\n",
            "0    C    NaN  18.00\n",
            "1    A   80.0  19.00\n",
            "2    E   75.0  19.75\n",
            "3    B   90.0  20.00\n",
            "4    D   88.0  22.00\n"
          ]
        }
      ]
    },
    {
      "cell_type": "markdown",
      "source": [
        "# 8. Bonus Mini Challenges"
      ],
      "metadata": {
        "id": "Ii2p_Vdqt3ZV"
      }
    },
    {
      "cell_type": "code",
      "source": [
        "df_bonus = pd.DataFrame({\n",
        "    'Name':['Krish','Rohit','Ravi','Gaurav','Raj'],\n",
        "    'Marks':[85,92,88,90,95],\n",
        "    'Age':[19,20,21,20,22]\n",
        "})\n"
      ],
      "metadata": {
        "id": "8z3Oug2jt7lD"
      },
      "execution_count": 60,
      "outputs": []
    },
    {
      "cell_type": "code",
      "source": [
        "# Display top 3 rows\n",
        "print(\"Top 3 rows:\\n\", df_bonus.head(3))"
      ],
      "metadata": {
        "colab": {
          "base_uri": "https://localhost:8080/"
        },
        "id": "sJuaRm25uADx",
        "outputId": "1881687a-fac2-4b6a-9080-4fe55699c355"
      },
      "execution_count": 61,
      "outputs": [
        {
          "output_type": "stream",
          "name": "stdout",
          "text": [
            "Top 3 rows:\n",
            "     Name  Marks  Age\n",
            "0  Krish     85   19\n",
            "1  Rohit     92   20\n",
            "2   Ravi     88   21\n"
          ]
        }
      ]
    },
    {
      "cell_type": "code",
      "source": [
        "# Check number of rows & columns\n",
        "print(\"\\nShape (rows, columns):\", df_bonus.shape)"
      ],
      "metadata": {
        "colab": {
          "base_uri": "https://localhost:8080/"
        },
        "id": "oTHYeRDnuE0N",
        "outputId": "0a2fb4fa-2437-4381-f797-4d5cf286b49a"
      },
      "execution_count": 62,
      "outputs": [
        {
          "output_type": "stream",
          "name": "stdout",
          "text": [
            "\n",
            "Shape (rows, columns): (5, 3)\n"
          ]
        }
      ]
    },
    {
      "cell_type": "code",
      "source": [
        "# Find highest and lowest marks\n",
        "print(\"\\nHighest Marks:\", df_bonus['Marks'].max())\n",
        "print(\"Lowest Marks:\", df_bonus['Marks'].min())"
      ],
      "metadata": {
        "colab": {
          "base_uri": "https://localhost:8080/"
        },
        "id": "PsEVcy2DuGlw",
        "outputId": "63c4ac0a-6eff-4309-8123-bceda4be31a2"
      },
      "execution_count": 63,
      "outputs": [
        {
          "output_type": "stream",
          "name": "stdout",
          "text": [
            "\n",
            "Highest Marks: 95\n",
            "Lowest Marks: 85\n"
          ]
        }
      ]
    },
    {
      "cell_type": "code",
      "source": [
        "# Rename columns\n",
        "df_renamed = df_bonus.rename(columns={'Marks':'Score'})\n",
        "print(\"\\nRenamed Columns:\\n\", df_renamed.head())"
      ],
      "metadata": {
        "colab": {
          "base_uri": "https://localhost:8080/"
        },
        "id": "X-Oz_O6fuJtQ",
        "outputId": "f5897111-93aa-4248-a0a2-0e92e281f4fb"
      },
      "execution_count": 64,
      "outputs": [
        {
          "output_type": "stream",
          "name": "stdout",
          "text": [
            "\n",
            "Renamed Columns:\n",
            "      Name  Score  Age\n",
            "0   Krish     85   19\n",
            "1   Rohit     92   20\n",
            "2    Ravi     88   21\n",
            "3  Gaurav     90   20\n",
            "4     Raj     95   22\n"
          ]
        }
      ]
    },
    {
      "cell_type": "code",
      "source": [
        "# Drop a column\n",
        "df_dropped = df_bonus.drop('Age', axis=1)\n",
        "print(\"\\nDataFrame after dropping 'Age' column:\\n\", df_dropped)"
      ],
      "metadata": {
        "colab": {
          "base_uri": "https://localhost:8080/"
        },
        "id": "pTwWkr6VuMxV",
        "outputId": "c8e126c9-c85e-485f-96e3-9e810a2d9c3d"
      },
      "execution_count": 65,
      "outputs": [
        {
          "output_type": "stream",
          "name": "stdout",
          "text": [
            "\n",
            "DataFrame after dropping 'Age' column:\n",
            "      Name  Marks\n",
            "0   Krish     85\n",
            "1   Rohit     92\n",
            "2    Ravi     88\n",
            "3  Gaurav     90\n",
            "4     Raj     95\n"
          ]
        }
      ]
    }
  ]
}